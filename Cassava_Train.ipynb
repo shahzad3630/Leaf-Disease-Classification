{
 "cells": [
  {
   "cell_type": "markdown",
   "metadata": {
    "id": "ymsIg4TJLyFi"
   },
   "source": [
    "# Colab Setup"
   ]
  },
  {
   "cell_type": "code",
   "execution_count": 1,
   "metadata": {
    "colab": {
     "base_uri": "https://localhost:8080/"
    },
    "executionInfo": {
     "elapsed": 33048,
     "status": "ok",
     "timestamp": 1613107752833,
     "user": {
      "displayName": "shahzad comp",
      "photoUrl": "",
      "userId": "09431324090149775819"
     },
     "user_tz": -330
    },
    "id": "idjMF_IBLb1J",
    "outputId": "0563738a-bc7c-470d-ff9a-a4f6c4363aba"
   },
   "outputs": [
    {
     "name": "stdout",
     "output_type": "stream",
     "text": [
      "Mounted at /content/drive\n"
     ]
    }
   ],
   "source": [
    "# connect to google drive to save weights\n",
    "\n",
    "from google.colab import drive\n",
    "drive.mount(\"/content/drive\")"
   ]
  },
  {
   "cell_type": "code",
   "execution_count": null,
   "metadata": {
    "id": "kYvbPQ56L05B"
   },
   "outputs": [],
   "source": [
    "# utility to download data from drive to colab\n",
    "# large dataset zip file is in diff. account drive,\n",
    "# not in the drive where weights are saved\n",
    "\n",
    "!git clone https://github.com/chentinghao/download_google_drive.git "
   ]
  },
  {
   "cell_type": "code",
   "execution_count": 3,
   "metadata": {
    "colab": {
     "base_uri": "https://localhost:8080/"
    },
    "executionInfo": {
     "elapsed": 36243,
     "status": "ok",
     "timestamp": 1613107756049,
     "user": {
      "displayName": "shahzad comp",
      "photoUrl": "",
      "userId": "09431324090149775819"
     },
     "user_tz": -330
    },
    "id": "lGSRkmS9MAYK",
    "outputId": "6340bafb-c93d-48da-b1c1-46c2c0113dd6"
   },
   "outputs": [
    {
     "name": "stdout",
     "output_type": "stream",
     "text": [
      "93.1MB [00:01, 51.4MB/s]\n"
     ]
    }
   ],
   "source": [
    "# download weights trained in previous session\n",
    "\n",
    "!python download_google_drive/download_gdrive.py LINK_REMOVED_HERE model_05.pt"
   ]
  },
  {
   "cell_type": "markdown",
   "metadata": {
    "id": "gs1z_0QIbviZ"
   },
   "source": [
    "# Module Import"
   ]
  },
  {
   "cell_type": "code",
   "execution_count": 4,
   "metadata": {
    "executionInfo": {
     "elapsed": 2006,
     "status": "ok",
     "timestamp": 1613107761627,
     "user": {
      "displayName": "shahzad comp",
      "photoUrl": "",
      "userId": "09431324090149775819"
     },
     "user_tz": -330
    },
    "id": "6p1xGlIyaXqg"
   },
   "outputs": [],
   "source": [
    "import os, cv2\n",
    "from PIL import Image\n",
    "\n",
    "import numpy as np\n",
    "import json, shutil\n",
    "import pandas as pd\n",
    "from tqdm import tqdm, trange\n",
    "import random, datetime\n",
    "\n",
    "import seaborn as sns\n",
    "import matplotlib.pyplot as plt\n",
    "from matplotlib.ticker import MaxNLocator"
   ]
  },
  {
   "cell_type": "code",
   "execution_count": 5,
   "metadata": {
    "executionInfo": {
     "elapsed": 5771,
     "status": "ok",
     "timestamp": 1613107765408,
     "user": {
      "displayName": "shahzad comp",
      "photoUrl": "",
      "userId": "09431324090149775819"
     },
     "user_tz": -330
    },
    "id": "5swgyl9lbfKi"
   },
   "outputs": [],
   "source": [
    "import torch\n",
    "from torch import nn\n",
    "from torch import optim\n",
    "from torch.optim.lr_scheduler import MultiStepLR #as MultiStepLR\n",
    "import torch.nn.functional as F\n",
    "\n",
    "import torchvision\n",
    "from torchvision import datasets, transforms, models\n",
    "\n",
    "from torch.utils.data import Dataset\n",
    "from torch.utils.data.sampler import SubsetRandomSampler\n",
    "from torch.utils.tensorboard import SummaryWriter\n",
    "from torchsummary import summary"
   ]
  },
  {
   "cell_type": "code",
   "execution_count": 6,
   "metadata": {
    "colab": {
     "base_uri": "https://localhost:8080/"
    },
    "executionInfo": {
     "elapsed": 8472,
     "status": "ok",
     "timestamp": 1613107768115,
     "user": {
      "displayName": "shahzad comp",
      "photoUrl": "",
      "userId": "09431324090149775819"
     },
     "user_tz": -330
    },
    "id": "ynPujPWdh9X3",
    "outputId": "33745ced-0801-4e58-cb70-7e7b7bad019d"
   },
   "outputs": [
    {
     "name": "stdout",
     "output_type": "stream",
     "text": [
      "Collecting pkbar\n",
      "  Downloading https://files.pythonhosted.org/packages/95/8f/28e0a21b27f836a8903315050db17dd68e55bf477b6fde52d1c68da3c8a6/pkbar-0.5-py3-none-any.whl\n",
      "Requirement already satisfied: numpy in /usr/local/lib/python3.6/dist-packages (from pkbar) (1.19.5)\n",
      "Installing collected packages: pkbar\n",
      "Successfully installed pkbar-0.5\n"
     ]
    }
   ],
   "source": [
    "!pip install pkbar"
   ]
  },
  {
   "cell_type": "code",
   "execution_count": 7,
   "metadata": {
    "executionInfo": {
     "elapsed": 8468,
     "status": "ok",
     "timestamp": 1613107768123,
     "user": {
      "displayName": "shahzad comp",
      "photoUrl": "",
      "userId": "09431324090149775819"
     },
     "user_tz": -330
    },
    "id": "nyG9sF6bZP_o"
   },
   "outputs": [],
   "source": [
    "import pkbar"
   ]
  },
  {
   "cell_type": "markdown",
   "metadata": {},
   "source": [
    "<b> The colab session has 15GB RAM </b>"
   ]
  },
  {
   "cell_type": "code",
   "execution_count": 8,
   "metadata": {
    "colab": {
     "base_uri": "https://localhost:8080/"
    },
    "executionInfo": {
     "elapsed": 8459,
     "status": "ok",
     "timestamp": 1613107768129,
     "user": {
      "displayName": "shahzad comp",
      "photoUrl": "",
      "userId": "09431324090149775819"
     },
     "user_tz": -330
    },
    "id": "c8u34L81bOKC",
    "outputId": "7066ed1d-b838-47e1-f1bf-55a7a9abae75"
   },
   "outputs": [
    {
     "name": "stdout",
     "output_type": "stream",
     "text": [
      "Fri Feb 12 05:29:27 2021       \n",
      "+-----------------------------------------------------------------------------+\n",
      "| NVIDIA-SMI 460.39       Driver Version: 460.32.03    CUDA Version: 11.2     |\n",
      "|-------------------------------+----------------------+----------------------+\n",
      "| GPU  Name        Persistence-M| Bus-Id        Disp.A | Volatile Uncorr. ECC |\n",
      "| Fan  Temp  Perf  Pwr:Usage/Cap|         Memory-Usage | GPU-Util  Compute M. |\n",
      "|                               |                      |               MIG M. |\n",
      "|===============================+======================+======================|\n",
      "|   0  Tesla T4            Off  | 00000000:00:04.0 Off |                    0 |\n",
      "| N/A   36C    P8     9W /  70W |      0MiB / 15109MiB |      0%      Default |\n",
      "|                               |                      |                  N/A |\n",
      "+-------------------------------+----------------------+----------------------+\n",
      "                                                                               \n",
      "+-----------------------------------------------------------------------------+\n",
      "| Processes:                                                                  |\n",
      "|  GPU   GI   CI        PID   Type   Process name                  GPU Memory |\n",
      "|        ID   ID                                                   Usage      |\n",
      "|=============================================================================|\n",
      "|  No running processes found                                                 |\n",
      "+-----------------------------------------------------------------------------+\n"
     ]
    }
   ],
   "source": [
    "!nvidia-smi"
   ]
  },
  {
   "cell_type": "markdown",
   "metadata": {
    "id": "1j2md3MLaSZ9"
   },
   "source": [
    "# Kaggle Setup"
   ]
  },
  {
   "cell_type": "code",
   "execution_count": 9,
   "metadata": {
    "colab": {
     "base_uri": "https://localhost:8080/"
    },
    "executionInfo": {
     "elapsed": 3043,
     "status": "ok",
     "timestamp": 1613107773653,
     "user": {
      "displayName": "shahzad comp",
      "photoUrl": "",
      "userId": "09431324090149775819"
     },
     "user_tz": -330
    },
    "id": "pNdwFQy6aI5N",
    "outputId": "f75cea0f-1f38-490c-c59e-8720e7d1e155"
   },
   "outputs": [
    {
     "name": "stdout",
     "output_type": "stream",
     "text": [
      "Collecting kaggle\n",
      "\u001b[?25l  Downloading https://files.pythonhosted.org/packages/99/33/365c0d13f07a2a54744d027fe20b60dacdfdfb33bc04746db6ad0b79340b/kaggle-1.5.10.tar.gz (59kB)\n",
      "\r",
      "\u001b[K     |█████▌                          | 10kB 27.2MB/s eta 0:00:01\r",
      "\u001b[K     |███████████                     | 20kB 32.7MB/s eta 0:00:01\r",
      "\u001b[K     |████████████████▋               | 30kB 20.4MB/s eta 0:00:01\r",
      "\u001b[K     |██████████████████████▏         | 40kB 19.6MB/s eta 0:00:01\r",
      "\u001b[K     |███████████████████████████▊    | 51kB 21.6MB/s eta 0:00:01\r",
      "\u001b[K     |████████████████████████████████| 61kB 8.8MB/s \n",
      "\u001b[?25hBuilding wheels for collected packages: kaggle\n",
      "  Building wheel for kaggle (setup.py) ... \u001b[?25l\u001b[?25hdone\n",
      "  Created wheel for kaggle: filename=kaggle-1.5.10-cp36-none-any.whl size=73269 sha256=8c4253389e9c15810f17a9079fe5c7bd0abd1b471ea46ec0262c176f73996743\n",
      "  Stored in directory: /root/.cache/pip/wheels/3a/d1/7e/6ce09b72b770149802c653a02783821629146983ee5a360f10\n",
      "Successfully built kaggle\n",
      "Installing collected packages: kaggle\n",
      "  Found existing installation: kaggle 1.5.10\n",
      "    Uninstalling kaggle-1.5.10:\n",
      "      Successfully uninstalled kaggle-1.5.10\n",
      "Successfully installed kaggle-1.5.10\n"
     ]
    }
   ],
   "source": [
    "!pip install --upgrade --force-reinstall --no-deps kaggle"
   ]
  },
  {
   "cell_type": "code",
   "execution_count": 10,
   "metadata": {
    "executionInfo": {
     "elapsed": 3034,
     "status": "ok",
     "timestamp": 1613107773658,
     "user": {
      "displayName": "shahzad comp",
      "photoUrl": "",
      "userId": "09431324090149775819"
     },
     "user_tz": -330
    },
    "id": "Asar4b8faTZB"
   },
   "outputs": [],
   "source": [
    "!mkdir ~/.kaggle \n",
    "fd=open(\"/root/.kaggle/kaggle.json\", \"w\")\n",
    "json_data=\"\"\"{\"username\":\"USERNAME\",\"key\":\"KEY\"}\"\"\"\n",
    "fd.write(json_data)\n",
    "fd.close()"
   ]
  },
  {
   "cell_type": "code",
   "execution_count": 11,
   "metadata": {
    "executionInfo": {
     "elapsed": 3026,
     "status": "ok",
     "timestamp": 1613107773661,
     "user": {
      "displayName": "shahzad comp",
      "photoUrl": "",
      "userId": "09431324090149775819"
     },
     "user_tz": -330
    },
    "id": "jnFbDD-YaXjP"
   },
   "outputs": [],
   "source": [
    "!chmod 600 ~/.kaggle/kaggle.json"
   ]
  },
  {
   "cell_type": "markdown",
   "metadata": {
    "id": "lwSeUipsacJ4"
   },
   "source": [
    "## Download Data"
   ]
  },
  {
   "cell_type": "code",
   "execution_count": 12,
   "metadata": {
    "executionInfo": {
     "elapsed": 2151,
     "status": "ok",
     "timestamp": 1613107774184,
     "user": {
      "displayName": "shahzad comp",
      "photoUrl": "",
      "userId": "09431324090149775819"
     },
     "user_tz": -330
    },
    "id": "sAux2dT_aXll"
   },
   "outputs": [],
   "source": [
    "!mkdir data"
   ]
  },
  {
   "cell_type": "code",
   "execution_count": 13,
   "metadata": {
    "colab": {
     "base_uri": "https://localhost:8080/"
    },
    "executionInfo": {
     "elapsed": 127570,
     "status": "ok",
     "timestamp": 1613107899615,
     "user": {
      "displayName": "shahzad comp",
      "photoUrl": "",
      "userId": "09431324090149775819"
     },
     "user_tz": -330
    },
    "id": "XbckzS_yalTv",
    "outputId": "a6fac2f1-56a1-47b4-ad2d-3191d4059ae1"
   },
   "outputs": [
    {
     "name": "stdout",
     "output_type": "stream",
     "text": [
      "/content/data\n",
      "Downloading cassava-leaf-disease-classification.zip to /content/data\n",
      "100% 5.76G/5.76G [02:01<00:00, 34.6MB/s]\n",
      "100% 5.76G/5.76G [02:01<00:00, 50.8MB/s]\n",
      "/content\n"
     ]
    }
   ],
   "source": [
    "%cd /content/data/\n",
    "!kaggle competitions download -c cassava-leaf-disease-classification\n",
    "%cd /content"
   ]
  },
  {
   "cell_type": "code",
   "execution_count": null,
   "metadata": {
    "colab": {
     "base_uri": "https://localhost:8080/"
    },
    "executionInfo": {
     "elapsed": 305906,
     "status": "ok",
     "timestamp": 1613108077967,
     "user": {
      "displayName": "shahzad comp",
      "photoUrl": "",
      "userId": "09431324090149775819"
     },
     "user_tz": -330
    },
    "id": "u60izReMaXoF",
    "outputId": "836eb4bf-7c6d-424a-ec60-f6a1eaa1225f"
   },
   "outputs": [],
   "source": [
    "%cd /content/data/\n",
    "!unzip cassava-leaf-disease-classification.zip\n",
    "%cd /content"
   ]
  },
  {
   "cell_type": "markdown",
   "metadata": {
    "id": "XXicWatQawm3"
   },
   "source": [
    "# Data Analysis"
   ]
  },
  {
   "cell_type": "code",
   "execution_count": 15,
   "metadata": {
    "colab": {
     "base_uri": "https://localhost:8080/"
    },
    "executionInfo": {
     "elapsed": 303921,
     "status": "ok",
     "timestamp": 1613108077971,
     "user": {
      "displayName": "shahzad comp",
      "photoUrl": "",
      "userId": "09431324090149775819"
     },
     "user_tz": -330
    },
    "id": "ix9SxQbYa1RB",
    "outputId": "9c8bb014-4b5d-428c-9a69-5833f50171a8"
   },
   "outputs": [
    {
     "data": {
      "text/plain": [
       "['train_tfrecords',\n",
       " 'label_num_to_disease_map.json',\n",
       " 'sample_submission.csv',\n",
       " 'cassava-leaf-disease-classification.zip',\n",
       " 'train.csv',\n",
       " 'train_images',\n",
       " 'test_images',\n",
       " 'test_tfrecords']"
      ]
     },
     "execution_count": 15,
     "metadata": {
      "tags": []
     },
     "output_type": "execute_result"
    }
   ],
   "source": [
    "inp_dir=\"/content/data\"\n",
    "os.listdir(inp_dir)"
   ]
  },
  {
   "cell_type": "markdown",
   "metadata": {},
   "source": [
    "<b> get class mapping from json file </b>"
   ]
  },
  {
   "cell_type": "code",
   "execution_count": 17,
   "metadata": {
    "colab": {
     "base_uri": "https://localhost:8080/"
    },
    "executionInfo": {
     "elapsed": 304352,
     "status": "ok",
     "timestamp": 1613108078425,
     "user": {
      "displayName": "shahzad comp",
      "photoUrl": "",
      "userId": "09431324090149775819"
     },
     "user_tz": -330
    },
    "id": "lxNgV443a1Tr",
    "outputId": "82d1daed-bcf9-477e-d7d4-c052e926ee60"
   },
   "outputs": [
    {
     "data": {
      "text/plain": [
       "{'0': 'Cassava Bacterial Blight (CBB)',\n",
       " '1': 'Cassava Brown Streak Disease (CBSD)',\n",
       " '2': 'Cassava Green Mottle (CGM)',\n",
       " '3': 'Cassava Mosaic Disease (CMD)',\n",
       " '4': 'Healthy'}"
      ]
     },
     "execution_count": 17,
     "metadata": {
      "tags": []
     },
     "output_type": "execute_result"
    }
   ],
   "source": [
    "fd=open('/content/data/label_num_to_disease_map.json')\n",
    "data=json.load(fd)\n",
    "fd.close()\n",
    "data"
   ]
  },
  {
   "cell_type": "markdown",
   "metadata": {},
   "source": [
    "<b> per image label </b>"
   ]
  },
  {
   "cell_type": "code",
   "execution_count": 18,
   "metadata": {
    "colab": {
     "base_uri": "https://localhost:8080/",
     "height": 0
    },
    "executionInfo": {
     "elapsed": 304340,
     "status": "ok",
     "timestamp": 1613108078425,
     "user": {
      "displayName": "shahzad comp",
      "photoUrl": "",
      "userId": "09431324090149775819"
     },
     "user_tz": -330
    },
    "id": "IKjRztq4a1V-",
    "outputId": "f662058c-b939-4f3a-fa8f-cc7661505d28"
   },
   "outputs": [
    {
     "data": {
      "text/html": [
       "<div>\n",
       "<style scoped>\n",
       "    .dataframe tbody tr th:only-of-type {\n",
       "        vertical-align: middle;\n",
       "    }\n",
       "\n",
       "    .dataframe tbody tr th {\n",
       "        vertical-align: top;\n",
       "    }\n",
       "\n",
       "    .dataframe thead th {\n",
       "        text-align: right;\n",
       "    }\n",
       "</style>\n",
       "<table border=\"1\" class=\"dataframe\">\n",
       "  <thead>\n",
       "    <tr style=\"text-align: right;\">\n",
       "      <th></th>\n",
       "      <th>image_id</th>\n",
       "      <th>label</th>\n",
       "    </tr>\n",
       "  </thead>\n",
       "  <tbody>\n",
       "    <tr>\n",
       "      <th>0</th>\n",
       "      <td>1000015157.jpg</td>\n",
       "      <td>0</td>\n",
       "    </tr>\n",
       "    <tr>\n",
       "      <th>1</th>\n",
       "      <td>1000201771.jpg</td>\n",
       "      <td>3</td>\n",
       "    </tr>\n",
       "    <tr>\n",
       "      <th>2</th>\n",
       "      <td>100042118.jpg</td>\n",
       "      <td>1</td>\n",
       "    </tr>\n",
       "    <tr>\n",
       "      <th>3</th>\n",
       "      <td>1000723321.jpg</td>\n",
       "      <td>1</td>\n",
       "    </tr>\n",
       "    <tr>\n",
       "      <th>4</th>\n",
       "      <td>1000812911.jpg</td>\n",
       "      <td>3</td>\n",
       "    </tr>\n",
       "  </tbody>\n",
       "</table>\n",
       "</div>"
      ],
      "text/plain": [
       "         image_id  label\n",
       "0  1000015157.jpg      0\n",
       "1  1000201771.jpg      3\n",
       "2   100042118.jpg      1\n",
       "3  1000723321.jpg      1\n",
       "4  1000812911.jpg      3"
      ]
     },
     "execution_count": 18,
     "metadata": {
      "tags": []
     },
     "output_type": "execute_result"
    }
   ],
   "source": [
    "csv_path=os.path.join(inp_dir, \"train.csv\")\n",
    "df=pd.read_csv(csv_path)\n",
    "\n",
    "df.head()"
   ]
  },
  {
   "cell_type": "markdown",
   "metadata": {},
   "source": [
    "<b> train/test split of data </b>"
   ]
  },
  {
   "cell_type": "code",
   "execution_count": 19,
   "metadata": {
    "colab": {
     "base_uri": "https://localhost:8080/"
    },
    "executionInfo": {
     "elapsed": 304334,
     "status": "ok",
     "timestamp": 1613108078427,
     "user": {
      "displayName": "shahzad comp",
      "photoUrl": "",
      "userId": "09431324090149775819"
     },
     "user_tz": -330
    },
    "id": "Zo19IiXba1Xy",
    "outputId": "81a49f22-0958-4f71-c532-3c0e8096b08a"
   },
   "outputs": [
    {
     "data": {
      "text/plain": [
       "((17117, 2), (4280, 2), 21397)"
      ]
     },
     "execution_count": 19,
     "metadata": {
      "tags": []
     },
     "output_type": "execute_result"
    }
   ],
   "source": [
    "N=df.shape[0]\n",
    "N1=int(N*0.8)\n",
    "\n",
    "df1=df.iloc[:N1, :]\n",
    "df2=df.iloc[N1:, :]\n",
    "\n",
    "df2.reset_index(inplace=True)\n",
    "df2 = df2.drop('index', 1)\n",
    "\n",
    "df1.shape, df2.shape, df1.shape[0]+df2.shape[0]"
   ]
  },
  {
   "cell_type": "markdown",
   "metadata": {},
   "source": [
    "<b> train data dataframe</b>"
   ]
  },
  {
   "cell_type": "code",
   "execution_count": 20,
   "metadata": {
    "colab": {
     "base_uri": "https://localhost:8080/",
     "height": 0
    },
    "executionInfo": {
     "elapsed": 304326,
     "status": "ok",
     "timestamp": 1613108078429,
     "user": {
      "displayName": "shahzad comp",
      "photoUrl": "",
      "userId": "09431324090149775819"
     },
     "user_tz": -330
    },
    "id": "SUWdsKMyh7vy",
    "outputId": "5c68a85f-0857-4fb3-9f5d-571576bc108a"
   },
   "outputs": [
    {
     "data": {
      "text/html": [
       "<div>\n",
       "<style scoped>\n",
       "    .dataframe tbody tr th:only-of-type {\n",
       "        vertical-align: middle;\n",
       "    }\n",
       "\n",
       "    .dataframe tbody tr th {\n",
       "        vertical-align: top;\n",
       "    }\n",
       "\n",
       "    .dataframe thead th {\n",
       "        text-align: right;\n",
       "    }\n",
       "</style>\n",
       "<table border=\"1\" class=\"dataframe\">\n",
       "  <thead>\n",
       "    <tr style=\"text-align: right;\">\n",
       "      <th></th>\n",
       "      <th>image_id</th>\n",
       "      <th>label</th>\n",
       "    </tr>\n",
       "  </thead>\n",
       "  <tbody>\n",
       "    <tr>\n",
       "      <th>0</th>\n",
       "      <td>1000015157.jpg</td>\n",
       "      <td>0</td>\n",
       "    </tr>\n",
       "    <tr>\n",
       "      <th>1</th>\n",
       "      <td>1000201771.jpg</td>\n",
       "      <td>3</td>\n",
       "    </tr>\n",
       "    <tr>\n",
       "      <th>2</th>\n",
       "      <td>100042118.jpg</td>\n",
       "      <td>1</td>\n",
       "    </tr>\n",
       "    <tr>\n",
       "      <th>3</th>\n",
       "      <td>1000723321.jpg</td>\n",
       "      <td>1</td>\n",
       "    </tr>\n",
       "    <tr>\n",
       "      <th>4</th>\n",
       "      <td>1000812911.jpg</td>\n",
       "      <td>3</td>\n",
       "    </tr>\n",
       "  </tbody>\n",
       "</table>\n",
       "</div>"
      ],
      "text/plain": [
       "         image_id  label\n",
       "0  1000015157.jpg      0\n",
       "1  1000201771.jpg      3\n",
       "2   100042118.jpg      1\n",
       "3  1000723321.jpg      1\n",
       "4  1000812911.jpg      3"
      ]
     },
     "execution_count": 20,
     "metadata": {
      "tags": []
     },
     "output_type": "execute_result"
    }
   ],
   "source": [
    "df1.head()"
   ]
  },
  {
   "cell_type": "markdown",
   "metadata": {},
   "source": [
    "<b> test data dataframe</b>"
   ]
  },
  {
   "cell_type": "code",
   "execution_count": 21,
   "metadata": {
    "colab": {
     "base_uri": "https://localhost:8080/",
     "height": 0
    },
    "executionInfo": {
     "elapsed": 304320,
     "status": "ok",
     "timestamp": 1613108078430,
     "user": {
      "displayName": "shahzad comp",
      "photoUrl": "",
      "userId": "09431324090149775819"
     },
     "user_tz": -330
    },
    "id": "berpe98ch7z3",
    "outputId": "6798d8a3-27b0-4e7a-b7ca-d280703e10c8"
   },
   "outputs": [
    {
     "data": {
      "text/html": [
       "<div>\n",
       "<style scoped>\n",
       "    .dataframe tbody tr th:only-of-type {\n",
       "        vertical-align: middle;\n",
       "    }\n",
       "\n",
       "    .dataframe tbody tr th {\n",
       "        vertical-align: top;\n",
       "    }\n",
       "\n",
       "    .dataframe thead th {\n",
       "        text-align: right;\n",
       "    }\n",
       "</style>\n",
       "<table border=\"1\" class=\"dataframe\">\n",
       "  <thead>\n",
       "    <tr style=\"text-align: right;\">\n",
       "      <th></th>\n",
       "      <th>image_id</th>\n",
       "      <th>label</th>\n",
       "    </tr>\n",
       "  </thead>\n",
       "  <tbody>\n",
       "    <tr>\n",
       "      <th>0</th>\n",
       "      <td>4081152393.jpg</td>\n",
       "      <td>3</td>\n",
       "    </tr>\n",
       "    <tr>\n",
       "      <th>1</th>\n",
       "      <td>4081341161.jpg</td>\n",
       "      <td>1</td>\n",
       "    </tr>\n",
       "    <tr>\n",
       "      <th>2</th>\n",
       "      <td>408144068.jpg</td>\n",
       "      <td>3</td>\n",
       "    </tr>\n",
       "    <tr>\n",
       "      <th>3</th>\n",
       "      <td>4081836555.jpg</td>\n",
       "      <td>3</td>\n",
       "    </tr>\n",
       "    <tr>\n",
       "      <th>4</th>\n",
       "      <td>4082024517.jpg</td>\n",
       "      <td>3</td>\n",
       "    </tr>\n",
       "  </tbody>\n",
       "</table>\n",
       "</div>"
      ],
      "text/plain": [
       "         image_id  label\n",
       "0  4081152393.jpg      3\n",
       "1  4081341161.jpg      1\n",
       "2   408144068.jpg      3\n",
       "3  4081836555.jpg      3\n",
       "4  4082024517.jpg      3"
      ]
     },
     "execution_count": 21,
     "metadata": {
      "tags": []
     },
     "output_type": "execute_result"
    }
   ],
   "source": [
    "df2.head()"
   ]
  },
  {
   "cell_type": "code",
   "execution_count": 22,
   "metadata": {
    "colab": {
     "base_uri": "https://localhost:8080/"
    },
    "executionInfo": {
     "elapsed": 304312,
     "status": "ok",
     "timestamp": 1613108078433,
     "user": {
      "displayName": "shahzad comp",
      "photoUrl": "",
      "userId": "09431324090149775819"
     },
     "user_tz": -330
    },
    "id": "s3rJoUiAbVMj",
    "outputId": "00ea661c-ac10-490d-9815-a3f06d489bed"
   },
   "outputs": [
    {
     "data": {
      "text/plain": [
       "(21397, 17117, 4280)"
      ]
     },
     "execution_count": 22,
     "metadata": {
      "tags": []
     },
     "output_type": "execute_result"
    }
   ],
   "source": [
    "# total images, train images, test images\n",
    "N,N1,N-N1"
   ]
  },
  {
   "cell_type": "code",
   "execution_count": 25,
   "metadata": {
    "colab": {
     "base_uri": "https://localhost:8080/",
     "height": 0
    },
    "executionInfo": {
     "elapsed": 305504,
     "status": "ok",
     "timestamp": 1613108079644,
     "user": {
      "displayName": "shahzad comp",
      "photoUrl": "",
      "userId": "09431324090149775819"
     },
     "user_tz": -330
    },
    "id": "TCZAe7M3bXeV",
    "outputId": "ed4fd049-b45c-4aa3-9684-c5effb6e4109"
   },
   "outputs": [
    {
     "name": "stderr",
     "output_type": "stream",
     "text": [
      "/usr/local/lib/python3.6/dist-packages/seaborn/_decorators.py:43: FutureWarning: Pass the following variable as a keyword arg: x. From version 0.12, the only valid positional argument will be `data`, and passing other arguments without an explicit keyword will result in an error or misinterpretation.\n",
      "  FutureWarning\n"
     ]
    },
    {
     "data": {
      "image/png": "[encoded data removed]",
      "text/plain": [
       "<Figure size 432x288 with 1 Axes>"
      ]
     },
     "metadata": {
      "needs_background": "light",
      "tags": []
     },
     "output_type": "display_data"
    }
   ],
   "source": [
    "# Data distribution of whole set\n",
    "\n",
    "labels=df.iloc[:,1]\n",
    "lab_unique=labels.unique()\n",
    "sns.countplot(labels)\n",
    "plt.show()"
   ]
  },
  {
   "cell_type": "code",
   "execution_count": 26,
   "metadata": {
    "colab": {
     "base_uri": "https://localhost:8080/",
     "height": 0
    },
    "executionInfo": {
     "elapsed": 305498,
     "status": "ok",
     "timestamp": 1613108079645,
     "user": {
      "displayName": "shahzad comp",
      "photoUrl": "",
      "userId": "09431324090149775819"
     },
     "user_tz": -330
    },
    "id": "fLzETExnbXg0",
    "outputId": "a70525a8-51b5-4081-cfb9-9b1097937cb9"
   },
   "outputs": [
    {
     "name": "stderr",
     "output_type": "stream",
     "text": [
      "/usr/local/lib/python3.6/dist-packages/seaborn/_decorators.py:43: FutureWarning: Pass the following variable as a keyword arg: x. From version 0.12, the only valid positional argument will be `data`, and passing other arguments without an explicit keyword will result in an error or misinterpretation.\n",
      "  FutureWarning\n"
     ]
    },
    {
     "data": {
      "image/png": "[encoded data removed]",
      "text/plain": [
       "<Figure size 432x288 with 1 Axes>"
      ]
     },
     "metadata": {
      "needs_background": "light",
      "tags": []
     },
     "output_type": "display_data"
    }
   ],
   "source": [
    "# training data distribution\n",
    "\n",
    "labels=df1.iloc[:,1]\n",
    "lab_unique=labels.unique()\n",
    "sns.countplot(labels)\n",
    "plt.show()"
   ]
  },
  {
   "cell_type": "code",
   "execution_count": 27,
   "metadata": {
    "colab": {
     "base_uri": "https://localhost:8080/",
     "height": 0
    },
    "executionInfo": {
     "elapsed": 305492,
     "status": "ok",
     "timestamp": 1613108079648,
     "user": {
      "displayName": "shahzad comp",
      "photoUrl": "",
      "userId": "09431324090149775819"
     },
     "user_tz": -330
    },
    "id": "9ZUcpbvZbXja",
    "outputId": "8b64fbe9-f199-4486-b34e-a7a2ff00bdf1"
   },
   "outputs": [
    {
     "name": "stderr",
     "output_type": "stream",
     "text": [
      "/usr/local/lib/python3.6/dist-packages/seaborn/_decorators.py:43: FutureWarning: Pass the following variable as a keyword arg: x. From version 0.12, the only valid positional argument will be `data`, and passing other arguments without an explicit keyword will result in an error or misinterpretation.\n",
      "  FutureWarning\n"
     ]
    },
    {
     "data": {
      "image/png": "[encoded data removed]",
      "text/plain": [
       "<Figure size 432x288 with 1 Axes>"
      ]
     },
     "metadata": {
      "needs_background": "light",
      "tags": []
     },
     "output_type": "display_data"
    }
   ],
   "source": [
    "# testing data distribution\n",
    "\n",
    "labels=df2.iloc[:,1]\n",
    "lab_unique=labels.unique()\n",
    "sns.countplot(labels)\n",
    "plt.show()"
   ]
  },
  {
   "cell_type": "markdown",
   "metadata": {
    "id": "7tjurLnWbsU6"
   },
   "source": [
    "# Data Generator"
   ]
  },
  {
   "cell_type": "code",
   "execution_count": 28,
   "metadata": {
    "executionInfo": {
     "elapsed": 304202,
     "status": "ok",
     "timestamp": 1613108079649,
     "user": {
      "displayName": "shahzad comp",
      "photoUrl": "",
      "userId": "09431324090149775819"
     },
     "user_tz": -330
    },
    "id": "uPhKWjk_CKc0"
   },
   "outputs": [],
   "source": [
    "H,W=600,800\n",
    "batch_size=8"
   ]
  },
  {
   "cell_type": "code",
   "execution_count": 29,
   "metadata": {
    "colab": {
     "base_uri": "https://localhost:8080/"
    },
    "executionInfo": {
     "elapsed": 304193,
     "status": "ok",
     "timestamp": 1613108079650,
     "user": {
      "displayName": "shahzad comp",
      "photoUrl": "",
      "userId": "09431324090149775819"
     },
     "user_tz": -330
    },
    "id": "H5YNQuyBQdQH",
    "outputId": "a600b829-a209-452e-f8c6-b8c427b53d95"
   },
   "outputs": [
    {
     "data": {
      "text/plain": [
       "({0: 'Cassava Bacterial Blight (CBB)',\n",
       "  1: 'Cassava Brown Streak Disease (CBSD)',\n",
       "  2: 'Cassava Green Mottle (CGM)',\n",
       "  3: 'Cassava Mosaic Disease (CMD)',\n",
       "  4: 'Healthy'},\n",
       " {'Cassava Bacterial Blight (CBB)': 0,\n",
       "  'Cassava Brown Streak Disease (CBSD)': 1,\n",
       "  'Cassava Green Mottle (CGM)': 2,\n",
       "  'Cassava Mosaic Disease (CMD)': 3,\n",
       "  'Healthy': 4})"
      ]
     },
     "execution_count": 29,
     "metadata": {
      "tags": []
     },
     "output_type": "execute_result"
    }
   ],
   "source": [
    "# make both index to class and class to index dictionary\n",
    "\n",
    "cls_map= {}\n",
    "for k,v in data.items():\n",
    "  k=int(k)\n",
    "  cls_map[k]=v\n",
    "\n",
    "rev_cls_map = {v: k for k, v in cls_map.items()}\n",
    "\n",
    "cls_map, rev_cls_map"
   ]
  },
  {
   "cell_type": "code",
   "execution_count": 30,
   "metadata": {
    "executionInfo": {
     "elapsed": 304179,
     "status": "ok",
     "timestamp": 1613108079652,
     "user": {
      "displayName": "shahzad comp",
      "photoUrl": "",
      "userId": "09431324090149775819"
     },
     "user_tz": -330
    },
    "id": "3Q62YO--b6rL"
   },
   "outputs": [],
   "source": [
    "# Dataset class \n",
    "\n",
    "class dataset(Dataset):\n",
    "    def __init__(self, H, W, im_fol , df,  rev_cls_map, transform=None):\n",
    "        self.H, self.W= H, W\n",
    "        self.im_fol = im_fol\n",
    "        self.transform = transform\n",
    "        self.df = df\n",
    "        self.rev_cls_map=rev_cls_map\n",
    "        \n",
    "    def __len__(self):\n",
    "        return self.df.shape[0]\n",
    "    \n",
    "    def __getitem__(self, index):\n",
    "        label = torch.tensor(self.df.loc[index, 'label'])\n",
    "        name=self.df.loc[index, 'image_id']\n",
    "\n",
    "        path = os.path.join(self.im_fol, name)\n",
    "        image = Image.open(path)\n",
    "        image = np.array( image.resize((W,H)) )/255\n",
    "\n",
    "        if self.transform is not None:\n",
    "            image = self.transform(image)\n",
    "\n",
    "        image=image.to(dtype=torch.float)\n",
    "        # labels=labels.to(dtype=torch.float)\n",
    "\n",
    "        image=image.cuda()\n",
    "        label=label.cuda()            \n",
    "\n",
    "        return image, label\n"
   ]
  },
  {
   "cell_type": "code",
   "execution_count": 31,
   "metadata": {
    "executionInfo": {
     "elapsed": 304172,
     "status": "ok",
     "timestamp": 1613108079653,
     "user": {
      "displayName": "shahzad comp",
      "photoUrl": "",
      "userId": "09431324090149775819"
     },
     "user_tz": -330
    },
    "id": "rz572OK-CSiN"
   },
   "outputs": [],
   "source": [
    "transform = transforms.Compose( [transforms.ToTensor()] )\n",
    "\n",
    "train_dataset = dataset(H, W, \"/content/data/train_images\", df1, rev_cls_map, transform)\n",
    "val_dataset =  dataset(H, W, \"/content/data/train_images\", df2, rev_cls_map, transform)"
   ]
  },
  {
   "cell_type": "code",
   "execution_count": 32,
   "metadata": {
    "executionInfo": {
     "elapsed": 304169,
     "status": "ok",
     "timestamp": 1613108079655,
     "user": {
      "displayName": "shahzad comp",
      "photoUrl": "",
      "userId": "09431324090149775819"
     },
     "user_tz": -330
    },
    "id": "ay0XMhh1CbhY"
   },
   "outputs": [],
   "source": [
    "train_loader = torch.utils.data.DataLoader(train_dataset, batch_size=batch_size, shuffle=True, drop_last=True)\n",
    "val_loader = torch.utils.data.DataLoader(val_dataset, batch_size=batch_size, shuffle=False )"
   ]
  },
  {
   "cell_type": "markdown",
   "metadata": {
    "id": "C_0IhVrbcPW0"
   },
   "source": [
    "# Model Definition"
   ]
  },
  {
   "cell_type": "code",
   "execution_count": 33,
   "metadata": {
    "executionInfo": {
     "elapsed": 302137,
     "status": "ok",
     "timestamp": 1613108079656,
     "user": {
      "displayName": "shahzad comp",
      "photoUrl": "",
      "userId": "09431324090149775819"
     },
     "user_tz": -330
    },
    "id": "4rApBxZAcRMs"
   },
   "outputs": [],
   "source": [
    "class Net(nn.Module):\n",
    "    def __init__(self, dropout=0.5):\n",
    "        super(Net, self).__init__()\n",
    "        # bb_model=torchvision.models.wide_resnet50_2(pretrained=True, progress=True)\n",
    "        bb_model=torchvision.models.resnext50_32x4d(pretrained=True, progress=True)\n",
    "        # bb_model=torchvision.models.resnext101_32x8d(pretrained=True, progress=True)\n",
    "        self.backbone=torch.nn.Sequential(*(list(bb_model.children())[:-1]))\n",
    "\n",
    "        self.dp1 = nn.Dropout(dropout)\n",
    "        self.dp2 = nn.Dropout(dropout)\n",
    "\n",
    "        self.fc1 = nn.Linear(2048, 512 )\n",
    "        self.fc2 = nn.Linear(512, 512)\n",
    "\n",
    "        self.bn1 = nn.BatchNorm1d(512)\n",
    "        self.bn2 = nn.BatchNorm1d(512)\n",
    "\n",
    "        self.fc3 = nn.Linear(512, 5)\n",
    "        self.softmax = nn.Softmax(dim=1)\n",
    "        \n",
    "    def forward(self, x):\n",
    "        x=self.backbone(x)\n",
    "        x=nn.Flatten()(x)\n",
    "\n",
    "        x=self.dp1( F.relu( self.bn1( self.fc1(x) ) ))\n",
    "        x=self.dp2( F.relu( self.bn2( self.fc2(x) ) ))\n",
    "        x=self.fc3(x)\n",
    "        x=self.softmax(x)\n",
    "\n",
    "        return x\n"
   ]
  },
  {
   "cell_type": "markdown",
   "metadata": {
    "id": "AB884uX6c3M7"
   },
   "source": [
    "# Auxiliary functions "
   ]
  },
  {
   "cell_type": "code",
   "execution_count": 34,
   "metadata": {
    "executionInfo": {
     "elapsed": 300494,
     "status": "ok",
     "timestamp": 1613108079658,
     "user": {
      "displayName": "shahzad comp",
      "photoUrl": "",
      "userId": "09431324090149775819"
     },
     "user_tz": -330
    },
    "id": "RSZpW1SQHiD4"
   },
   "outputs": [],
   "source": [
    "# for model evaluation on testing data\n",
    "def val_model(model, loss_fn, val_loader):\n",
    "  val_loss=0\n",
    "  total=0\n",
    "  correct=0\n",
    "  with torch.no_grad():\n",
    "    for data, labels in val_loader:\n",
    "      out = model(data)\n",
    "      loss = loss_fn(out, labels)\n",
    "      val_loss += loss.item()\n",
    "\n",
    "      _, predicted = torch.max(out, dim=1)\n",
    "      total += labels.shape[0]\n",
    "      correct += int((predicted == labels).sum())\n",
    "\n",
    "  acc=correct / total\n",
    "\n",
    "  return val_loss/len(val_loader), acc\n",
    "\n",
    "\n",
    "# function to get current learning rate\n",
    "def get_lr(optimizer):\n",
    "    for param_group in optimizer.param_groups:\n",
    "        return param_group['lr']\n",
    "\n",
    "\n",
    "# function to log epoch results in a file    \n",
    "def log_tensorboard(tb, epoch, record, validation=False):\n",
    "  train_loss=record[0]\n",
    "  train_acc=record[1]\n",
    "  lr=record[2]\n",
    "  val_loss=None\n",
    "  val_acc=None\n",
    "\n",
    "  tb.add_scalar(\"Train Loss\", train_loss, epoch); tb.flush()\n",
    "  tb.add_scalar(\"Train Accuracy\", train_acc, epoch); tb.flush()\n",
    "  tb.add_scalar(\"LR\", lr, epoch); tb.flush()\n",
    "\n",
    "  if validation:\n",
    "    if len(record)==5:\n",
    "      val_loss=record[3]\n",
    "      val_acc=record[4]\n",
    "\n",
    "    tb.add_scalar(\"Val Loss\", val_loss, epoch); tb.flush()\n",
    "    tb.add_scalar(\"Val Accuracy\", val_acc, epoch); tb.flush()\n",
    "      "
   ]
  },
  {
   "cell_type": "code",
   "execution_count": 35,
   "metadata": {
    "executionInfo": {
     "elapsed": 300482,
     "status": "ok",
     "timestamp": 1613108079658,
     "user": {
      "displayName": "shahzad comp",
      "photoUrl": "",
      "userId": "09431324090149775819"
     },
     "user_tz": -330
    },
    "id": "G0K_V_HoHiIC"
   },
   "outputs": [],
   "source": [
    "# function to train model\n",
    "\n",
    "def train_model(model, optimizer, total_epochs, \n",
    "                train_loader, loss_fn, model_folder, log_dir,\n",
    "                validation=False, val_loader=None):\n",
    "  \n",
    "  train_loss=[]\n",
    "  val_loss=[]\n",
    "  train_acc=[]\n",
    "  val_acc=[]\n",
    "  lr=[]\n",
    "\n",
    "  log_writer = SummaryWriter(log_dir)\n",
    "\n",
    "  model.train()\n",
    "  for epoch in range(1,total_epochs+1):    \n",
    "    # Training progress bar\n",
    "    kbar = pkbar.Kbar(target=len(train_loader), epoch=epoch-1, num_epochs=total_epochs, \n",
    "                      width=40, always_stateful=True)    \n",
    "    total_loss=0\n",
    "    total=0\n",
    "    correct=0\n",
    "\n",
    "    # Train model\n",
    "    for i,(data, labels) in enumerate(train_loader):\n",
    "      out = model(data)\n",
    "      loss = loss_fn(out, labels)\n",
    "      optimizer.zero_grad()\n",
    "      loss.backward()\n",
    "      optimizer.step()\n",
    "      total_loss += loss.item()\n",
    "\n",
    "      _, predicted = torch.max(out, dim=1)\n",
    "      total += labels.shape[0]\n",
    "      correct += int((predicted == labels).sum())\n",
    "      acc=correct/total\n",
    "\n",
    "      closs=loss.item()\n",
    "      tot=labels.shape[0]\n",
    "      cor=int((predicted == labels).sum())\n",
    "      tac=cor/tot\n",
    "\n",
    "      kbar.update(i, values=[(\"loss\", total_loss/(i+1)), (\"acc\", acc)])\n",
    "\n",
    "    tloss=total_loss/len(train_loader)\n",
    "    tacc=correct/total\n",
    "    train_loss.append( tloss )\n",
    "    train_acc.append( tacc )\n",
    "\n",
    "    # Validate data\n",
    "    if validation:\n",
    "      vloss, vacc=val_model(model, loss_fn, val_loader)\n",
    "      val_loss.append(vloss)\n",
    "      val_acc.append(vacc)      \n",
    "      kbar.add(1, values=[(\"val_loss\", vloss), (\"val_acc\", vacc)])\n",
    "    \n",
    "    curr_lr=get_lr(optimizer)\n",
    "    lr.append(curr_lr)\n",
    "\n",
    "    # Save model\n",
    "    model_path=os.path.join(model_folder, \"model_{:02d}.pt\".format(epoch))\n",
    "    torch.save(model.state_dict(), model_path)\n",
    "\n",
    "    # Tensorboard logging\n",
    "    epoch_record=[tloss, tacc, curr_lr]\n",
    "    if validation:\n",
    "      epoch_record+=[vloss, vacc]\n",
    "    log_tensorboard(log_writer, epoch, epoch_record, validation)\n",
    "\n",
    "  log_writer.close()\n",
    "  \n",
    "  # Record metrics in an object\n",
    "  history={}\n",
    "  history['loss']=train_loss\n",
    "  history['val_loss']=val_loss\n",
    "  history['acc']=train_acc\n",
    "  history['val_acc']=val_acc\n",
    "  history['lr']=lr\n",
    "\n",
    "  return history\n"
   ]
  },
  {
   "cell_type": "code",
   "execution_count": 36,
   "metadata": {
    "executionInfo": {
     "elapsed": 300471,
     "status": "ok",
     "timestamp": 1613108079659,
     "user": {
      "displayName": "shahzad comp",
      "photoUrl": "",
      "userId": "09431324090149775819"
     },
     "user_tz": -330
    },
    "id": "rGlLnJd4aAtU"
   },
   "outputs": [],
   "source": [
    "# function to train model using scheduler\n",
    "\n",
    "def train_model_by_scheduler(model, optimizer, scheduler, total_epochs, \n",
    "                train_loader, loss_fn, model_folder, log_dir,\n",
    "                validation=False, val_loader=None):\n",
    "  \n",
    "  train_loss=[]\n",
    "  val_loss=[]\n",
    "  train_acc=[]\n",
    "  val_acc=[]\n",
    "  lr=[]\n",
    "\n",
    "  log_writer = SummaryWriter(log_dir)\n",
    "\n",
    "  model.train()\n",
    "  for epoch in range(1,total_epochs+1):    \n",
    "    # Training progress bar\n",
    "    kbar = pkbar.Kbar(target=len(train_loader), epoch=epoch-1, num_epochs=total_epochs, \n",
    "                      width=40, always_stateful=True)    \n",
    "    total_loss=0\n",
    "    total=0\n",
    "    correct=0\n",
    "\n",
    "    # Train model\n",
    "    for i,(data, labels) in enumerate(train_loader):\n",
    "      out = model(data)\n",
    "      loss = loss_fn(out, labels)\n",
    "      optimizer.zero_grad()\n",
    "      loss.backward()\n",
    "      optimizer.step()\n",
    "      scheduler.step()\n",
    "      total_loss += loss.item()\n",
    "\n",
    "      _, predicted = torch.max(out, dim=1)\n",
    "      total += labels.shape[0]\n",
    "      correct += int((predicted == labels).sum())\n",
    "      acc=correct/total\n",
    "\n",
    "      closs=loss.item()\n",
    "      tot=labels.shape[0]\n",
    "      cor=int((predicted == labels).sum())\n",
    "      tac=cor/tot\n",
    "\n",
    "      kbar.update(i, values=[(\"loss\", total_loss/(i+1)), (\"acc\", acc)])\n",
    "\n",
    "    tloss=total_loss/len(train_loader)\n",
    "    tacc=correct/total\n",
    "    train_loss.append( tloss )\n",
    "    train_acc.append( tacc )\n",
    "\n",
    "    # Validate data\n",
    "    if validation:\n",
    "      vloss, vacc=val_model(model, loss_fn, val_loader)\n",
    "      val_loss.append(vloss)\n",
    "      val_acc.append(vacc)      \n",
    "      kbar.add(1, values=[(\"val_loss\", vloss), (\"val_acc\", vacc)])\n",
    "    \n",
    "    curr_lr=get_lr(optimizer)\n",
    "    lr.append(curr_lr)\n",
    "\n",
    "    # Save model\n",
    "    model_path=os.path.join(model_folder, \"model_{:02d}.pt\".format(epoch))\n",
    "    torch.save(model.state_dict(), model_path)\n",
    "\n",
    "    # Tensorboard logging\n",
    "    epoch_record=[tloss, tacc, curr_lr]\n",
    "    if validation:\n",
    "      epoch_record+=[vloss, vacc]\n",
    "    log_tensorboard(log_writer, epoch, epoch_record, validation)\n",
    "\n",
    "  log_writer.close()\n",
    "\n",
    "  # Record metrics in an object\n",
    "  history={}\n",
    "  history['loss']=train_loss\n",
    "  history['val_loss']=val_loss\n",
    "  history['acc']=train_acc\n",
    "  history['val_acc']=val_acc\n",
    "  history['lr']=lr\n",
    "\n",
    "  return history\n"
   ]
  },
  {
   "cell_type": "code",
   "execution_count": 37,
   "metadata": {
    "executionInfo": {
     "elapsed": 300462,
     "status": "ok",
     "timestamp": 1613108079659,
     "user": {
      "displayName": "shahzad comp",
      "photoUrl": "",
      "userId": "09431324090149775819"
     },
     "user_tz": -330
    },
    "id": "PrOufDg-Mqxx"
   },
   "outputs": [],
   "source": [
    "# function to retrain model\n",
    "\n",
    "def retrain_model_by_scheduler(model, optimizer, scheduler, total_epochs, \n",
    "                train_loader, loss_fn, model_folder, log_dir, \n",
    "                initial_epoch=0, pre_trained_model=None,\n",
    "                validation=False, val_loader=None):\n",
    "  \n",
    "  train_loss=[]\n",
    "  val_loss=[]\n",
    "  train_acc=[]\n",
    "  val_acc=[]\n",
    "  lr=[]\n",
    "\n",
    "  log_writer = SummaryWriter(log_dir)\n",
    "\n",
    "  if pre_trained_model:\n",
    "    model.load_state_dict(torch.load(pre_trained_model))\n",
    "  model.train()\n",
    "  for epoch in range(1,total_epochs+1):    \n",
    "    # Training progress bar\n",
    "    kbar = pkbar.Kbar(target=len(train_loader), epoch=initial_epoch + epoch-1, num_epochs=total_epochs, \n",
    "                      width=40, always_stateful=True)    \n",
    "    total_loss=0\n",
    "    total=0\n",
    "    correct=0\n",
    "\n",
    "    # Train model\n",
    "    for i,(data, labels) in enumerate(train_loader):\n",
    "      out = model(data)\n",
    "      loss = loss_fn(out, labels)\n",
    "      optimizer.zero_grad()\n",
    "      loss.backward()\n",
    "      optimizer.step()\n",
    "      scheduler.step()\n",
    "      total_loss += loss.item()\n",
    "\n",
    "      _, predicted = torch.max(out, dim=1)\n",
    "      total += labels.shape[0]\n",
    "      correct += int((predicted == labels).sum())\n",
    "      acc=correct/total\n",
    "\n",
    "      closs=loss.item()\n",
    "      tot=labels.shape[0]\n",
    "      cor=int((predicted == labels).sum())\n",
    "      tac=cor/tot\n",
    "\n",
    "      kbar.update(i, values=[(\"loss\", total_loss/(i+1)), (\"acc\", acc)])\n",
    "\n",
    "    tloss=total_loss/len(train_loader)\n",
    "    tacc=correct/total\n",
    "    train_loss.append( tloss )\n",
    "    train_acc.append( tacc )\n",
    "\n",
    "    # Validate data\n",
    "    if validation:\n",
    "      vloss, vacc=val_model(model, loss_fn, val_loader)\n",
    "      val_loss.append(vloss)\n",
    "      val_acc.append(vacc)      \n",
    "      kbar.add(1, values=[(\"val_loss\", vloss), (\"val_acc\", vacc)])\n",
    "    \n",
    "    curr_lr=get_lr(optimizer)\n",
    "    lr.append(curr_lr)\n",
    "\n",
    "    # Save model\n",
    "    model_path=os.path.join(model_folder, \"model_{:02d}.pt\".format(epoch + initial_epoch))\n",
    "    torch.save(model.state_dict(), model_path)\n",
    "\n",
    "    # Tensorboard logging\n",
    "    epoch_record=[tloss, tacc, curr_lr]\n",
    "    if validation:\n",
    "      epoch_record+=[vloss, vacc]\n",
    "    log_tensorboard(log_writer, epoch + initial_epoch, epoch_record, validation)\n",
    "\n",
    "  log_writer.close()\n",
    "\n",
    "  # Record metrics in an object\n",
    "  history={}\n",
    "  history['loss']=train_loss\n",
    "  history['val_loss']=val_loss\n",
    "  history['acc']=train_acc\n",
    "  history['val_acc']=val_acc\n",
    "  history['lr']=lr\n",
    "\n",
    "  return history\n"
   ]
  },
  {
   "cell_type": "code",
   "execution_count": 38,
   "metadata": {
    "colab": {
     "base_uri": "https://localhost:8080/"
    },
    "executionInfo": {
     "elapsed": 310873,
     "status": "ok",
     "timestamp": 1613108090076,
     "user": {
      "displayName": "shahzad comp",
      "photoUrl": "",
      "userId": "09431324090149775819"
     },
     "user_tz": -330
    },
    "id": "8guTbkK4Lfyf",
    "outputId": "18f337e0-54d7-4320-a525-8ec31735e948"
   },
   "outputs": [
    {
     "name": "stdout",
     "output_type": "stream",
     "text": [
      "0 877\n",
      "1 1746\n",
      "2 1931\n",
      "3 10508\n",
      "4 2055\n",
      "@@@@@@@@@@@@@@@@@@@@\n",
      "21397\n",
      "@@@@@@@@@@@@@@@@@@@@\n",
      "1.2904280573014049\n",
      "0.9913834112978945\n",
      "0.9476453768880507\n",
      "0.21190758655341274\n",
      "0.9206158244553575\n"
     ]
    }
   ],
   "source": [
    "# get cross entropy loss weights\n",
    "\n",
    "uni_lab, count=np.unique(df1['label'].ravel(), return_counts=True)\n",
    "for i in range(len(count)):\n",
    "    print(uni_lab[i], count[i])\n",
    "\n",
    "print(\"@\"*20)\n",
    "tot=877+1746+1931+10508+2055\n",
    "print(N)\n",
    "print(\"@\"*20)\n",
    "\n",
    "for c in count:\n",
    "    v=-np.log10(c/tot)\n",
    "    print(v)\n",
    "\n",
    "\n",
    "weights= [1.2904, 0.9914, 0.9476, 0.2119, 0.9206]\n",
    "class_weights = torch.FloatTensor(weights).cuda()"
   ]
  },
  {
   "cell_type": "code",
   "execution_count": 39,
   "metadata": {
    "executionInfo": {
     "elapsed": 310901,
     "status": "ok",
     "timestamp": 1613108090111,
     "user": {
      "displayName": "shahzad comp",
      "photoUrl": "",
      "userId": "09431324090149775819"
     },
     "user_tz": -330
    },
    "id": "2puzksdbM8Fc"
   },
   "outputs": [],
   "source": [
    "# location of weight files and log directory\n",
    "\n",
    "weight_fol=\"/content/drive/MyDrive/cassava/weights/2\"\n",
    "logdir = os.path.join(\"/content/drive/MyDrive/cassava/logs/2\", datetime.datetime.now().strftime(\"%d%m%Y-%H%M%S\") )"
   ]
  },
  {
   "cell_type": "markdown",
   "metadata": {
    "id": "2z_46GNKMzuE"
   },
   "source": [
    "# Model Creation"
   ]
  },
  {
   "cell_type": "code",
   "execution_count": 40,
   "metadata": {
    "colab": {
     "base_uri": "https://localhost:8080/",
     "height": 0,
     "referenced_widgets": [
      "7a2b70552d8946a799b3f227feb254b5",
      "ace27ddb4fa542d2bb764c2313682968",
      "00142b061e8345fdafbd895c4d68e050",
      "88875ab0812440da994ba65d8e97ed6f",
      "adbe59feddd84ff7bb8cbae774b27d6a",
      "549f80e4eece404b926840e7c87393e1",
      "b429b0d9319e4e5a8f62959b0bbda293",
      "407d7343224c4edf81174be235886e55"
     ]
    },
    "executionInfo": {
     "elapsed": 306937,
     "status": "ok",
     "timestamp": 1613108091001,
     "user": {
      "displayName": "shahzad comp",
      "photoUrl": "",
      "userId": "09431324090149775819"
     },
     "user_tz": -330
    },
    "id": "NOyGkqJjLf4K",
    "outputId": "fa9a236f-ff4a-4a79-ecc6-b0168bc71ef1"
   },
   "outputs": [
    {
     "name": "stderr",
     "output_type": "stream",
     "text": [
      "Downloading: \"https://download.pytorch.org/models/resnext50_32x4d-7cdf4587.pth\" to /root/.cache/torch/hub/checkpoints/resnext50_32x4d-7cdf4587.pth\n"
     ]
    },
    {
     "data": {
      "application/vnd.jupyter.widget-view+json": {
       "model_id": "7a2b70552d8946a799b3f227feb254b5",
       "version_major": 2,
       "version_minor": 0
      },
      "text/plain": [
       "HBox(children=(FloatProgress(value=0.0, max=100441675.0), HTML(value='')))"
      ]
     },
     "metadata": {
      "tags": []
     },
     "output_type": "display_data"
    },
    {
     "name": "stdout",
     "output_type": "stream",
     "text": [
      "\n"
     ]
    }
   ],
   "source": [
    "# Create model\n",
    "net=Net()"
   ]
  },
  {
   "cell_type": "code",
   "execution_count": 41,
   "metadata": {
    "colab": {
     "base_uri": "https://localhost:8080/"
    },
    "executionInfo": {
     "elapsed": 306927,
     "status": "ok",
     "timestamp": 1613108091004,
     "user": {
      "displayName": "shahzad comp",
      "photoUrl": "",
      "userId": "09431324090149775819"
     },
     "user_tz": -330
    },
    "id": "uDVKRUODjFhJ",
    "outputId": "ed38bbd2-b011-4871-d49a-1be8632c491f"
   },
   "outputs": [
    {
     "data": {
      "text/plain": [
       "Net(\n",
       "  (backbone): Sequential(\n",
       "    (0): Conv2d(3, 64, kernel_size=(7, 7), stride=(2, 2), padding=(3, 3), bias=False)\n",
       "    (1): BatchNorm2d(64, eps=1e-05, momentum=0.1, affine=True, track_running_stats=True)\n",
       "    (2): ReLU(inplace=True)\n",
       "    (3): MaxPool2d(kernel_size=3, stride=2, padding=1, dilation=1, ceil_mode=False)\n",
       "    (4): Sequential(\n",
       "      (0): Bottleneck(\n",
       "        (conv1): Conv2d(64, 128, kernel_size=(1, 1), stride=(1, 1), bias=False)\n",
       "        (bn1): BatchNorm2d(128, eps=1e-05, momentum=0.1, affine=True, track_running_stats=True)\n",
       "        (conv2): Conv2d(128, 128, kernel_size=(3, 3), stride=(1, 1), padding=(1, 1), groups=32, bias=False)\n",
       "        (bn2): BatchNorm2d(128, eps=1e-05, momentum=0.1, affine=True, track_running_stats=True)\n",
       "        (conv3): Conv2d(128, 256, kernel_size=(1, 1), stride=(1, 1), bias=False)\n",
       "        (bn3): BatchNorm2d(256, eps=1e-05, momentum=0.1, affine=True, track_running_stats=True)\n",
       "        (relu): ReLU(inplace=True)\n",
       "        (downsample): Sequential(\n",
       "          (0): Conv2d(64, 256, kernel_size=(1, 1), stride=(1, 1), bias=False)\n",
       "          (1): BatchNorm2d(256, eps=1e-05, momentum=0.1, affine=True, track_running_stats=True)\n",
       "        )\n",
       "      )\n",
       "      (1): Bottleneck(\n",
       "        (conv1): Conv2d(256, 128, kernel_size=(1, 1), stride=(1, 1), bias=False)\n",
       "        (bn1): BatchNorm2d(128, eps=1e-05, momentum=0.1, affine=True, track_running_stats=True)\n",
       "        (conv2): Conv2d(128, 128, kernel_size=(3, 3), stride=(1, 1), padding=(1, 1), groups=32, bias=False)\n",
       "        (bn2): BatchNorm2d(128, eps=1e-05, momentum=0.1, affine=True, track_running_stats=True)\n",
       "        (conv3): Conv2d(128, 256, kernel_size=(1, 1), stride=(1, 1), bias=False)\n",
       "        (bn3): BatchNorm2d(256, eps=1e-05, momentum=0.1, affine=True, track_running_stats=True)\n",
       "        (relu): ReLU(inplace=True)\n",
       "      )\n",
       "      (2): Bottleneck(\n",
       "        (conv1): Conv2d(256, 128, kernel_size=(1, 1), stride=(1, 1), bias=False)\n",
       "        (bn1): BatchNorm2d(128, eps=1e-05, momentum=0.1, affine=True, track_running_stats=True)\n",
       "        (conv2): Conv2d(128, 128, kernel_size=(3, 3), stride=(1, 1), padding=(1, 1), groups=32, bias=False)\n",
       "        (bn2): BatchNorm2d(128, eps=1e-05, momentum=0.1, affine=True, track_running_stats=True)\n",
       "        (conv3): Conv2d(128, 256, kernel_size=(1, 1), stride=(1, 1), bias=False)\n",
       "        (bn3): BatchNorm2d(256, eps=1e-05, momentum=0.1, affine=True, track_running_stats=True)\n",
       "        (relu): ReLU(inplace=True)\n",
       "      )\n",
       "    )\n",
       "    (5): Sequential(\n",
       "      (0): Bottleneck(\n",
       "        (conv1): Conv2d(256, 256, kernel_size=(1, 1), stride=(1, 1), bias=False)\n",
       "        (bn1): BatchNorm2d(256, eps=1e-05, momentum=0.1, affine=True, track_running_stats=True)\n",
       "        (conv2): Conv2d(256, 256, kernel_size=(3, 3), stride=(2, 2), padding=(1, 1), groups=32, bias=False)\n",
       "        (bn2): BatchNorm2d(256, eps=1e-05, momentum=0.1, affine=True, track_running_stats=True)\n",
       "        (conv3): Conv2d(256, 512, kernel_size=(1, 1), stride=(1, 1), bias=False)\n",
       "        (bn3): BatchNorm2d(512, eps=1e-05, momentum=0.1, affine=True, track_running_stats=True)\n",
       "        (relu): ReLU(inplace=True)\n",
       "        (downsample): Sequential(\n",
       "          (0): Conv2d(256, 512, kernel_size=(1, 1), stride=(2, 2), bias=False)\n",
       "          (1): BatchNorm2d(512, eps=1e-05, momentum=0.1, affine=True, track_running_stats=True)\n",
       "        )\n",
       "      )\n",
       "      (1): Bottleneck(\n",
       "        (conv1): Conv2d(512, 256, kernel_size=(1, 1), stride=(1, 1), bias=False)\n",
       "        (bn1): BatchNorm2d(256, eps=1e-05, momentum=0.1, affine=True, track_running_stats=True)\n",
       "        (conv2): Conv2d(256, 256, kernel_size=(3, 3), stride=(1, 1), padding=(1, 1), groups=32, bias=False)\n",
       "        (bn2): BatchNorm2d(256, eps=1e-05, momentum=0.1, affine=True, track_running_stats=True)\n",
       "        (conv3): Conv2d(256, 512, kernel_size=(1, 1), stride=(1, 1), bias=False)\n",
       "        (bn3): BatchNorm2d(512, eps=1e-05, momentum=0.1, affine=True, track_running_stats=True)\n",
       "        (relu): ReLU(inplace=True)\n",
       "      )\n",
       "      (2): Bottleneck(\n",
       "        (conv1): Conv2d(512, 256, kernel_size=(1, 1), stride=(1, 1), bias=False)\n",
       "        (bn1): BatchNorm2d(256, eps=1e-05, momentum=0.1, affine=True, track_running_stats=True)\n",
       "        (conv2): Conv2d(256, 256, kernel_size=(3, 3), stride=(1, 1), padding=(1, 1), groups=32, bias=False)\n",
       "        (bn2): BatchNorm2d(256, eps=1e-05, momentum=0.1, affine=True, track_running_stats=True)\n",
       "        (conv3): Conv2d(256, 512, kernel_size=(1, 1), stride=(1, 1), bias=False)\n",
       "        (bn3): BatchNorm2d(512, eps=1e-05, momentum=0.1, affine=True, track_running_stats=True)\n",
       "        (relu): ReLU(inplace=True)\n",
       "      )\n",
       "      (3): Bottleneck(\n",
       "        (conv1): Conv2d(512, 256, kernel_size=(1, 1), stride=(1, 1), bias=False)\n",
       "        (bn1): BatchNorm2d(256, eps=1e-05, momentum=0.1, affine=True, track_running_stats=True)\n",
       "        (conv2): Conv2d(256, 256, kernel_size=(3, 3), stride=(1, 1), padding=(1, 1), groups=32, bias=False)\n",
       "        (bn2): BatchNorm2d(256, eps=1e-05, momentum=0.1, affine=True, track_running_stats=True)\n",
       "        (conv3): Conv2d(256, 512, kernel_size=(1, 1), stride=(1, 1), bias=False)\n",
       "        (bn3): BatchNorm2d(512, eps=1e-05, momentum=0.1, affine=True, track_running_stats=True)\n",
       "        (relu): ReLU(inplace=True)\n",
       "      )\n",
       "    )\n",
       "    (6): Sequential(\n",
       "      (0): Bottleneck(\n",
       "        (conv1): Conv2d(512, 512, kernel_size=(1, 1), stride=(1, 1), bias=False)\n",
       "        (bn1): BatchNorm2d(512, eps=1e-05, momentum=0.1, affine=True, track_running_stats=True)\n",
       "        (conv2): Conv2d(512, 512, kernel_size=(3, 3), stride=(2, 2), padding=(1, 1), groups=32, bias=False)\n",
       "        (bn2): BatchNorm2d(512, eps=1e-05, momentum=0.1, affine=True, track_running_stats=True)\n",
       "        (conv3): Conv2d(512, 1024, kernel_size=(1, 1), stride=(1, 1), bias=False)\n",
       "        (bn3): BatchNorm2d(1024, eps=1e-05, momentum=0.1, affine=True, track_running_stats=True)\n",
       "        (relu): ReLU(inplace=True)\n",
       "        (downsample): Sequential(\n",
       "          (0): Conv2d(512, 1024, kernel_size=(1, 1), stride=(2, 2), bias=False)\n",
       "          (1): BatchNorm2d(1024, eps=1e-05, momentum=0.1, affine=True, track_running_stats=True)\n",
       "        )\n",
       "      )\n",
       "      (1): Bottleneck(\n",
       "        (conv1): Conv2d(1024, 512, kernel_size=(1, 1), stride=(1, 1), bias=False)\n",
       "        (bn1): BatchNorm2d(512, eps=1e-05, momentum=0.1, affine=True, track_running_stats=True)\n",
       "        (conv2): Conv2d(512, 512, kernel_size=(3, 3), stride=(1, 1), padding=(1, 1), groups=32, bias=False)\n",
       "        (bn2): BatchNorm2d(512, eps=1e-05, momentum=0.1, affine=True, track_running_stats=True)\n",
       "        (conv3): Conv2d(512, 1024, kernel_size=(1, 1), stride=(1, 1), bias=False)\n",
       "        (bn3): BatchNorm2d(1024, eps=1e-05, momentum=0.1, affine=True, track_running_stats=True)\n",
       "        (relu): ReLU(inplace=True)\n",
       "      )\n",
       "      (2): Bottleneck(\n",
       "        (conv1): Conv2d(1024, 512, kernel_size=(1, 1), stride=(1, 1), bias=False)\n",
       "        (bn1): BatchNorm2d(512, eps=1e-05, momentum=0.1, affine=True, track_running_stats=True)\n",
       "        (conv2): Conv2d(512, 512, kernel_size=(3, 3), stride=(1, 1), padding=(1, 1), groups=32, bias=False)\n",
       "        (bn2): BatchNorm2d(512, eps=1e-05, momentum=0.1, affine=True, track_running_stats=True)\n",
       "        (conv3): Conv2d(512, 1024, kernel_size=(1, 1), stride=(1, 1), bias=False)\n",
       "        (bn3): BatchNorm2d(1024, eps=1e-05, momentum=0.1, affine=True, track_running_stats=True)\n",
       "        (relu): ReLU(inplace=True)\n",
       "      )\n",
       "      (3): Bottleneck(\n",
       "        (conv1): Conv2d(1024, 512, kernel_size=(1, 1), stride=(1, 1), bias=False)\n",
       "        (bn1): BatchNorm2d(512, eps=1e-05, momentum=0.1, affine=True, track_running_stats=True)\n",
       "        (conv2): Conv2d(512, 512, kernel_size=(3, 3), stride=(1, 1), padding=(1, 1), groups=32, bias=False)\n",
       "        (bn2): BatchNorm2d(512, eps=1e-05, momentum=0.1, affine=True, track_running_stats=True)\n",
       "        (conv3): Conv2d(512, 1024, kernel_size=(1, 1), stride=(1, 1), bias=False)\n",
       "        (bn3): BatchNorm2d(1024, eps=1e-05, momentum=0.1, affine=True, track_running_stats=True)\n",
       "        (relu): ReLU(inplace=True)\n",
       "      )\n",
       "      (4): Bottleneck(\n",
       "        (conv1): Conv2d(1024, 512, kernel_size=(1, 1), stride=(1, 1), bias=False)\n",
       "        (bn1): BatchNorm2d(512, eps=1e-05, momentum=0.1, affine=True, track_running_stats=True)\n",
       "        (conv2): Conv2d(512, 512, kernel_size=(3, 3), stride=(1, 1), padding=(1, 1), groups=32, bias=False)\n",
       "        (bn2): BatchNorm2d(512, eps=1e-05, momentum=0.1, affine=True, track_running_stats=True)\n",
       "        (conv3): Conv2d(512, 1024, kernel_size=(1, 1), stride=(1, 1), bias=False)\n",
       "        (bn3): BatchNorm2d(1024, eps=1e-05, momentum=0.1, affine=True, track_running_stats=True)\n",
       "        (relu): ReLU(inplace=True)\n",
       "      )\n",
       "      (5): Bottleneck(\n",
       "        (conv1): Conv2d(1024, 512, kernel_size=(1, 1), stride=(1, 1), bias=False)\n",
       "        (bn1): BatchNorm2d(512, eps=1e-05, momentum=0.1, affine=True, track_running_stats=True)\n",
       "        (conv2): Conv2d(512, 512, kernel_size=(3, 3), stride=(1, 1), padding=(1, 1), groups=32, bias=False)\n",
       "        (bn2): BatchNorm2d(512, eps=1e-05, momentum=0.1, affine=True, track_running_stats=True)\n",
       "        (conv3): Conv2d(512, 1024, kernel_size=(1, 1), stride=(1, 1), bias=False)\n",
       "        (bn3): BatchNorm2d(1024, eps=1e-05, momentum=0.1, affine=True, track_running_stats=True)\n",
       "        (relu): ReLU(inplace=True)\n",
       "      )\n",
       "    )\n",
       "    (7): Sequential(\n",
       "      (0): Bottleneck(\n",
       "        (conv1): Conv2d(1024, 1024, kernel_size=(1, 1), stride=(1, 1), bias=False)\n",
       "        (bn1): BatchNorm2d(1024, eps=1e-05, momentum=0.1, affine=True, track_running_stats=True)\n",
       "        (conv2): Conv2d(1024, 1024, kernel_size=(3, 3), stride=(2, 2), padding=(1, 1), groups=32, bias=False)\n",
       "        (bn2): BatchNorm2d(1024, eps=1e-05, momentum=0.1, affine=True, track_running_stats=True)\n",
       "        (conv3): Conv2d(1024, 2048, kernel_size=(1, 1), stride=(1, 1), bias=False)\n",
       "        (bn3): BatchNorm2d(2048, eps=1e-05, momentum=0.1, affine=True, track_running_stats=True)\n",
       "        (relu): ReLU(inplace=True)\n",
       "        (downsample): Sequential(\n",
       "          (0): Conv2d(1024, 2048, kernel_size=(1, 1), stride=(2, 2), bias=False)\n",
       "          (1): BatchNorm2d(2048, eps=1e-05, momentum=0.1, affine=True, track_running_stats=True)\n",
       "        )\n",
       "      )\n",
       "      (1): Bottleneck(\n",
       "        (conv1): Conv2d(2048, 1024, kernel_size=(1, 1), stride=(1, 1), bias=False)\n",
       "        (bn1): BatchNorm2d(1024, eps=1e-05, momentum=0.1, affine=True, track_running_stats=True)\n",
       "        (conv2): Conv2d(1024, 1024, kernel_size=(3, 3), stride=(1, 1), padding=(1, 1), groups=32, bias=False)\n",
       "        (bn2): BatchNorm2d(1024, eps=1e-05, momentum=0.1, affine=True, track_running_stats=True)\n",
       "        (conv3): Conv2d(1024, 2048, kernel_size=(1, 1), stride=(1, 1), bias=False)\n",
       "        (bn3): BatchNorm2d(2048, eps=1e-05, momentum=0.1, affine=True, track_running_stats=True)\n",
       "        (relu): ReLU(inplace=True)\n",
       "      )\n",
       "      (2): Bottleneck(\n",
       "        (conv1): Conv2d(2048, 1024, kernel_size=(1, 1), stride=(1, 1), bias=False)\n",
       "        (bn1): BatchNorm2d(1024, eps=1e-05, momentum=0.1, affine=True, track_running_stats=True)\n",
       "        (conv2): Conv2d(1024, 1024, kernel_size=(3, 3), stride=(1, 1), padding=(1, 1), groups=32, bias=False)\n",
       "        (bn2): BatchNorm2d(1024, eps=1e-05, momentum=0.1, affine=True, track_running_stats=True)\n",
       "        (conv3): Conv2d(1024, 2048, kernel_size=(1, 1), stride=(1, 1), bias=False)\n",
       "        (bn3): BatchNorm2d(2048, eps=1e-05, momentum=0.1, affine=True, track_running_stats=True)\n",
       "        (relu): ReLU(inplace=True)\n",
       "      )\n",
       "    )\n",
       "    (8): AdaptiveAvgPool2d(output_size=(1, 1))\n",
       "  )\n",
       "  (dp1): Dropout(p=0.5, inplace=False)\n",
       "  (dp2): Dropout(p=0.5, inplace=False)\n",
       "  (fc1): Linear(in_features=2048, out_features=512, bias=True)\n",
       "  (fc2): Linear(in_features=512, out_features=512, bias=True)\n",
       "  (bn1): BatchNorm1d(512, eps=1e-05, momentum=0.1, affine=True, track_running_stats=True)\n",
       "  (bn2): BatchNorm1d(512, eps=1e-05, momentum=0.1, affine=True, track_running_stats=True)\n",
       "  (fc3): Linear(in_features=512, out_features=5, bias=True)\n",
       "  (softmax): Softmax(dim=1)\n",
       ")"
      ]
     },
     "execution_count": 41,
     "metadata": {
      "tags": []
     },
     "output_type": "execute_result"
    }
   ],
   "source": [
    "net"
   ]
  },
  {
   "cell_type": "code",
   "execution_count": 42,
   "metadata": {
    "colab": {
     "base_uri": "https://localhost:8080/"
    },
    "executionInfo": {
     "elapsed": 311534,
     "status": "ok",
     "timestamp": 1613108097355,
     "user": {
      "displayName": "shahzad comp",
      "photoUrl": "",
      "userId": "09431324090149775819"
     },
     "user_tz": -330
    },
    "id": "HbqTFzJEI6hc",
    "outputId": "70705deb-c9a6-46f4-b5c9-6f8cc6e1541b"
   },
   "outputs": [
    {
     "name": "stdout",
     "output_type": "stream",
     "text": [
      "----------------------------------------------------------------\n",
      "        Layer (type)               Output Shape         Param #\n",
      "================================================================\n",
      "            Conv2d-1         [-1, 64, 300, 400]           9,408\n",
      "       BatchNorm2d-2         [-1, 64, 300, 400]             128\n",
      "              ReLU-3         [-1, 64, 300, 400]               0\n",
      "         MaxPool2d-4         [-1, 64, 150, 200]               0\n",
      "            Conv2d-5        [-1, 128, 150, 200]           8,192\n",
      "       BatchNorm2d-6        [-1, 128, 150, 200]             256\n",
      "              ReLU-7        [-1, 128, 150, 200]               0\n",
      "            Conv2d-8        [-1, 128, 150, 200]           4,608\n",
      "       BatchNorm2d-9        [-1, 128, 150, 200]             256\n",
      "             ReLU-10        [-1, 128, 150, 200]               0\n",
      "           Conv2d-11        [-1, 256, 150, 200]          32,768\n",
      "      BatchNorm2d-12        [-1, 256, 150, 200]             512\n",
      "           Conv2d-13        [-1, 256, 150, 200]          16,384\n",
      "      BatchNorm2d-14        [-1, 256, 150, 200]             512\n",
      "             ReLU-15        [-1, 256, 150, 200]               0\n",
      "       Bottleneck-16        [-1, 256, 150, 200]               0\n",
      "           Conv2d-17        [-1, 128, 150, 200]          32,768\n",
      "      BatchNorm2d-18        [-1, 128, 150, 200]             256\n",
      "             ReLU-19        [-1, 128, 150, 200]               0\n",
      "           Conv2d-20        [-1, 128, 150, 200]           4,608\n",
      "      BatchNorm2d-21        [-1, 128, 150, 200]             256\n",
      "             ReLU-22        [-1, 128, 150, 200]               0\n",
      "           Conv2d-23        [-1, 256, 150, 200]          32,768\n",
      "      BatchNorm2d-24        [-1, 256, 150, 200]             512\n",
      "             ReLU-25        [-1, 256, 150, 200]               0\n",
      "       Bottleneck-26        [-1, 256, 150, 200]               0\n",
      "           Conv2d-27        [-1, 128, 150, 200]          32,768\n",
      "      BatchNorm2d-28        [-1, 128, 150, 200]             256\n",
      "             ReLU-29        [-1, 128, 150, 200]               0\n",
      "           Conv2d-30        [-1, 128, 150, 200]           4,608\n",
      "      BatchNorm2d-31        [-1, 128, 150, 200]             256\n",
      "             ReLU-32        [-1, 128, 150, 200]               0\n",
      "           Conv2d-33        [-1, 256, 150, 200]          32,768\n",
      "      BatchNorm2d-34        [-1, 256, 150, 200]             512\n",
      "             ReLU-35        [-1, 256, 150, 200]               0\n",
      "       Bottleneck-36        [-1, 256, 150, 200]               0\n",
      "           Conv2d-37        [-1, 256, 150, 200]          65,536\n",
      "      BatchNorm2d-38        [-1, 256, 150, 200]             512\n",
      "             ReLU-39        [-1, 256, 150, 200]               0\n",
      "           Conv2d-40         [-1, 256, 75, 100]          18,432\n",
      "      BatchNorm2d-41         [-1, 256, 75, 100]             512\n",
      "             ReLU-42         [-1, 256, 75, 100]               0\n",
      "           Conv2d-43         [-1, 512, 75, 100]         131,072\n",
      "      BatchNorm2d-44         [-1, 512, 75, 100]           1,024\n",
      "           Conv2d-45         [-1, 512, 75, 100]         131,072\n",
      "      BatchNorm2d-46         [-1, 512, 75, 100]           1,024\n",
      "             ReLU-47         [-1, 512, 75, 100]               0\n",
      "       Bottleneck-48         [-1, 512, 75, 100]               0\n",
      "           Conv2d-49         [-1, 256, 75, 100]         131,072\n",
      "      BatchNorm2d-50         [-1, 256, 75, 100]             512\n",
      "             ReLU-51         [-1, 256, 75, 100]               0\n",
      "           Conv2d-52         [-1, 256, 75, 100]          18,432\n",
      "      BatchNorm2d-53         [-1, 256, 75, 100]             512\n",
      "             ReLU-54         [-1, 256, 75, 100]               0\n",
      "           Conv2d-55         [-1, 512, 75, 100]         131,072\n",
      "      BatchNorm2d-56         [-1, 512, 75, 100]           1,024\n",
      "             ReLU-57         [-1, 512, 75, 100]               0\n",
      "       Bottleneck-58         [-1, 512, 75, 100]               0\n",
      "           Conv2d-59         [-1, 256, 75, 100]         131,072\n",
      "      BatchNorm2d-60         [-1, 256, 75, 100]             512\n",
      "             ReLU-61         [-1, 256, 75, 100]               0\n",
      "           Conv2d-62         [-1, 256, 75, 100]          18,432\n",
      "      BatchNorm2d-63         [-1, 256, 75, 100]             512\n",
      "             ReLU-64         [-1, 256, 75, 100]               0\n",
      "           Conv2d-65         [-1, 512, 75, 100]         131,072\n",
      "      BatchNorm2d-66         [-1, 512, 75, 100]           1,024\n",
      "             ReLU-67         [-1, 512, 75, 100]               0\n",
      "       Bottleneck-68         [-1, 512, 75, 100]               0\n",
      "           Conv2d-69         [-1, 256, 75, 100]         131,072\n",
      "      BatchNorm2d-70         [-1, 256, 75, 100]             512\n",
      "             ReLU-71         [-1, 256, 75, 100]               0\n",
      "           Conv2d-72         [-1, 256, 75, 100]          18,432\n",
      "      BatchNorm2d-73         [-1, 256, 75, 100]             512\n",
      "             ReLU-74         [-1, 256, 75, 100]               0\n",
      "           Conv2d-75         [-1, 512, 75, 100]         131,072\n",
      "      BatchNorm2d-76         [-1, 512, 75, 100]           1,024\n",
      "             ReLU-77         [-1, 512, 75, 100]               0\n",
      "       Bottleneck-78         [-1, 512, 75, 100]               0\n",
      "           Conv2d-79         [-1, 512, 75, 100]         262,144\n",
      "      BatchNorm2d-80         [-1, 512, 75, 100]           1,024\n",
      "             ReLU-81         [-1, 512, 75, 100]               0\n",
      "           Conv2d-82          [-1, 512, 38, 50]          73,728\n",
      "      BatchNorm2d-83          [-1, 512, 38, 50]           1,024\n",
      "             ReLU-84          [-1, 512, 38, 50]               0\n",
      "           Conv2d-85         [-1, 1024, 38, 50]         524,288\n",
      "      BatchNorm2d-86         [-1, 1024, 38, 50]           2,048\n",
      "           Conv2d-87         [-1, 1024, 38, 50]         524,288\n",
      "      BatchNorm2d-88         [-1, 1024, 38, 50]           2,048\n",
      "             ReLU-89         [-1, 1024, 38, 50]               0\n",
      "       Bottleneck-90         [-1, 1024, 38, 50]               0\n",
      "           Conv2d-91          [-1, 512, 38, 50]         524,288\n",
      "      BatchNorm2d-92          [-1, 512, 38, 50]           1,024\n",
      "             ReLU-93          [-1, 512, 38, 50]               0\n",
      "           Conv2d-94          [-1, 512, 38, 50]          73,728\n",
      "      BatchNorm2d-95          [-1, 512, 38, 50]           1,024\n",
      "             ReLU-96          [-1, 512, 38, 50]               0\n",
      "           Conv2d-97         [-1, 1024, 38, 50]         524,288\n",
      "      BatchNorm2d-98         [-1, 1024, 38, 50]           2,048\n",
      "             ReLU-99         [-1, 1024, 38, 50]               0\n",
      "      Bottleneck-100         [-1, 1024, 38, 50]               0\n",
      "          Conv2d-101          [-1, 512, 38, 50]         524,288\n",
      "     BatchNorm2d-102          [-1, 512, 38, 50]           1,024\n",
      "            ReLU-103          [-1, 512, 38, 50]               0\n",
      "          Conv2d-104          [-1, 512, 38, 50]          73,728\n",
      "     BatchNorm2d-105          [-1, 512, 38, 50]           1,024\n",
      "            ReLU-106          [-1, 512, 38, 50]               0\n",
      "          Conv2d-107         [-1, 1024, 38, 50]         524,288\n",
      "     BatchNorm2d-108         [-1, 1024, 38, 50]           2,048\n",
      "            ReLU-109         [-1, 1024, 38, 50]               0\n",
      "      Bottleneck-110         [-1, 1024, 38, 50]               0\n",
      "          Conv2d-111          [-1, 512, 38, 50]         524,288\n",
      "     BatchNorm2d-112          [-1, 512, 38, 50]           1,024\n",
      "            ReLU-113          [-1, 512, 38, 50]               0\n",
      "          Conv2d-114          [-1, 512, 38, 50]          73,728\n",
      "     BatchNorm2d-115          [-1, 512, 38, 50]           1,024\n",
      "            ReLU-116          [-1, 512, 38, 50]               0\n",
      "          Conv2d-117         [-1, 1024, 38, 50]         524,288\n",
      "     BatchNorm2d-118         [-1, 1024, 38, 50]           2,048\n",
      "            ReLU-119         [-1, 1024, 38, 50]               0\n",
      "      Bottleneck-120         [-1, 1024, 38, 50]               0\n",
      "          Conv2d-121          [-1, 512, 38, 50]         524,288\n",
      "     BatchNorm2d-122          [-1, 512, 38, 50]           1,024\n",
      "            ReLU-123          [-1, 512, 38, 50]               0\n",
      "          Conv2d-124          [-1, 512, 38, 50]          73,728\n",
      "     BatchNorm2d-125          [-1, 512, 38, 50]           1,024\n",
      "            ReLU-126          [-1, 512, 38, 50]               0\n",
      "          Conv2d-127         [-1, 1024, 38, 50]         524,288\n",
      "     BatchNorm2d-128         [-1, 1024, 38, 50]           2,048\n",
      "            ReLU-129         [-1, 1024, 38, 50]               0\n",
      "      Bottleneck-130         [-1, 1024, 38, 50]               0\n",
      "          Conv2d-131          [-1, 512, 38, 50]         524,288\n",
      "     BatchNorm2d-132          [-1, 512, 38, 50]           1,024\n",
      "            ReLU-133          [-1, 512, 38, 50]               0\n",
      "          Conv2d-134          [-1, 512, 38, 50]          73,728\n",
      "     BatchNorm2d-135          [-1, 512, 38, 50]           1,024\n",
      "            ReLU-136          [-1, 512, 38, 50]               0\n",
      "          Conv2d-137         [-1, 1024, 38, 50]         524,288\n",
      "     BatchNorm2d-138         [-1, 1024, 38, 50]           2,048\n",
      "            ReLU-139         [-1, 1024, 38, 50]               0\n",
      "      Bottleneck-140         [-1, 1024, 38, 50]               0\n",
      "          Conv2d-141         [-1, 1024, 38, 50]       1,048,576\n",
      "     BatchNorm2d-142         [-1, 1024, 38, 50]           2,048\n",
      "            ReLU-143         [-1, 1024, 38, 50]               0\n",
      "          Conv2d-144         [-1, 1024, 19, 25]         294,912\n",
      "     BatchNorm2d-145         [-1, 1024, 19, 25]           2,048\n",
      "            ReLU-146         [-1, 1024, 19, 25]               0\n",
      "          Conv2d-147         [-1, 2048, 19, 25]       2,097,152\n",
      "     BatchNorm2d-148         [-1, 2048, 19, 25]           4,096\n",
      "          Conv2d-149         [-1, 2048, 19, 25]       2,097,152\n",
      "     BatchNorm2d-150         [-1, 2048, 19, 25]           4,096\n",
      "            ReLU-151         [-1, 2048, 19, 25]               0\n",
      "      Bottleneck-152         [-1, 2048, 19, 25]               0\n",
      "          Conv2d-153         [-1, 1024, 19, 25]       2,097,152\n",
      "     BatchNorm2d-154         [-1, 1024, 19, 25]           2,048\n",
      "            ReLU-155         [-1, 1024, 19, 25]               0\n",
      "          Conv2d-156         [-1, 1024, 19, 25]         294,912\n",
      "     BatchNorm2d-157         [-1, 1024, 19, 25]           2,048\n",
      "            ReLU-158         [-1, 1024, 19, 25]               0\n",
      "          Conv2d-159         [-1, 2048, 19, 25]       2,097,152\n",
      "     BatchNorm2d-160         [-1, 2048, 19, 25]           4,096\n",
      "            ReLU-161         [-1, 2048, 19, 25]               0\n",
      "      Bottleneck-162         [-1, 2048, 19, 25]               0\n",
      "          Conv2d-163         [-1, 1024, 19, 25]       2,097,152\n",
      "     BatchNorm2d-164         [-1, 1024, 19, 25]           2,048\n",
      "            ReLU-165         [-1, 1024, 19, 25]               0\n",
      "          Conv2d-166         [-1, 1024, 19, 25]         294,912\n",
      "     BatchNorm2d-167         [-1, 1024, 19, 25]           2,048\n",
      "            ReLU-168         [-1, 1024, 19, 25]               0\n",
      "          Conv2d-169         [-1, 2048, 19, 25]       2,097,152\n",
      "     BatchNorm2d-170         [-1, 2048, 19, 25]           4,096\n",
      "            ReLU-171         [-1, 2048, 19, 25]               0\n",
      "      Bottleneck-172         [-1, 2048, 19, 25]               0\n",
      "AdaptiveAvgPool2d-173           [-1, 2048, 1, 1]               0\n",
      "          Linear-174                  [-1, 512]       1,049,088\n",
      "     BatchNorm1d-175                  [-1, 512]           1,024\n",
      "         Dropout-176                  [-1, 512]               0\n",
      "          Linear-177                  [-1, 512]         262,656\n",
      "     BatchNorm1d-178                  [-1, 512]           1,024\n",
      "         Dropout-179                  [-1, 512]               0\n",
      "          Linear-180                    [-1, 5]           2,565\n",
      "         Softmax-181                    [-1, 5]               0\n",
      "================================================================\n",
      "Total params: 24,296,261\n",
      "Trainable params: 24,296,261\n",
      "Non-trainable params: 0\n",
      "----------------------------------------------------------------\n",
      "Input size (MB): 5.49\n",
      "Forward/backward pass size (MB): 3471.72\n",
      "Params size (MB): 92.68\n",
      "Estimated Total Size (MB): 3569.89\n",
      "----------------------------------------------------------------\n"
     ]
    }
   ],
   "source": [
    "summary(net, (3, H, W), device=\"cpu\")"
   ]
  },
  {
   "cell_type": "markdown",
   "metadata": {
    "id": "MJofbgePd3V7"
   },
   "source": [
    "# Train"
   ]
  },
  {
   "cell_type": "code",
   "execution_count": 44,
   "metadata": {
    "executionInfo": {
     "elapsed": 1205,
     "status": "ok",
     "timestamp": 1613108643001,
     "user": {
      "displayName": "shahzad comp",
      "photoUrl": "",
      "userId": "09431324090149775819"
     },
     "user_tz": -330
    },
    "id": "HIvRM90ySevZ"
   },
   "outputs": [],
   "source": [
    "net=net.cuda()"
   ]
  },
  {
   "cell_type": "code",
   "execution_count": 45,
   "metadata": {
    "executionInfo": {
     "elapsed": 953,
     "status": "ok",
     "timestamp": 1613108644706,
     "user": {
      "displayName": "shahzad comp",
      "photoUrl": "",
      "userId": "09431324090149775819"
     },
     "user_tz": -330
    },
    "id": "qdCQqkZoN0GL"
   },
   "outputs": [],
   "source": [
    "# model training attributes\n",
    "\n",
    "loss_fn = nn.CrossEntropyLoss(weight=class_weights)\n",
    "optimizer = optim.Adam(net.parameters(), lr=1E-3)\n",
    "scheduler = MultiStepLR(optimizer, milestones=[10,15], gamma=0.1)"
   ]
  },
  {
   "cell_type": "markdown",
   "metadata": {
    "ExecuteTime": {
     "end_time": "2021-10-24T16:08:20.307287Z",
     "start_time": "2021-10-24T16:08:20.293149Z"
    }
   },
   "source": [
    "<b>Since because colab session dies often, there has been provision to retrain model from last epoch.\n",
    "The following notebook shows the largest training session in colab </b>"
   ]
  },
  {
   "cell_type": "code",
   "execution_count": 46,
   "metadata": {
    "executionInfo": {
     "elapsed": 892,
     "status": "ok",
     "timestamp": 1613108668445,
     "user": {
      "displayName": "shahzad comp",
      "photoUrl": "",
      "userId": "09431324090149775819"
     },
     "user_tz": -330
    },
    "id": "COPpiMhTI3GR"
   },
   "outputs": [],
   "source": [
    "# re-training parameters\n",
    "\n",
    "initial_epoch=5\n",
    "total_epochs=20\n",
    "pre_trained_model=\"/content/model_05.pt\""
   ]
  },
  {
   "cell_type": "code",
   "execution_count": null,
   "metadata": {
    "colab": {
     "base_uri": "https://localhost:8080/"
    },
    "id": "KohJlEZeIFoY",
    "outputId": "bc10c2b1-6572-4018-885f-5c3c96da553d"
   },
   "outputs": [
    {
     "name": "stdout",
     "output_type": "stream",
     "text": [
      "Epoch: 6/20\n",
      "2139/2139 [========================================] - 3132s 1s/step - loss: 1.3898 - acc: 0.6746 - val_loss: 1.2936 - val_acc: 0.7224\n",
      "Epoch: 7/20\n",
      "2139/2139 [========================================] - 3100s 1s/step - loss: 1.2490 - acc: 0.7459 - val_loss: 1.2494 - val_acc: 0.7360\n",
      "Epoch: 8/20\n",
      "2139/2139 [========================================] - 3101s 1s/step - loss: 1.2216 - acc: 0.7747 - val_loss: 1.2260 - val_acc: 0.7811\n",
      "Epoch: 9/20\n",
      "2139/2139 [========================================] - 3108s 1s/step - loss: 1.2042 - acc: 0.7885 - val_loss: 1.2071 - val_acc: 0.7848\n",
      "Epoch: 10/20\n",
      "2139/2139 [========================================] - 3104s 1s/step - loss: 1.1921 - acc: 0.7987 - val_loss: 1.1986 - val_acc: 0.7960\n",
      "Epoch: 11/20\n",
      "2139/2139 [========================================] - 3097s 1s/step - loss: 1.1788 - acc: 0.8140 - val_loss: 1.1933 - val_acc: 0.7979\n",
      "Epoch: 12/20\n",
      "2139/2139 [========================================] - 3055s 1s/step - loss: 1.1535 - acc: 0.8274 - val_loss: 1.1868 - val_acc: 0.8023\n",
      "Epoch: 13/20\n",
      "2139/2139 [========================================] - 3018s 1s/step - loss: 1.1293 - acc: 0.8403 - val_loss: 1.1698 - val_acc: 0.8121\n",
      "Epoch: 14/20\n",
      "2139/2139 [========================================] - 2990s 1s/step - loss: 1.1145 - acc: 0.8483 - val_loss: 1.1584 - val_acc: 0.8103\n",
      "Epoch: 15/20\n",
      "2139/2139 [========================================] - 2983s 1s/step - loss: 1.0932 - acc: 0.8607 - val_loss: 1.1467 - val_acc: 0.8283\n",
      "Epoch: 16/20\n",
      "2139/2139 [========================================] - 2993s 1s/step - loss: 1.0771 - acc: 0.8741 - val_loss: 1.1394 - val_acc: 0.8343\n",
      "Epoch: 17/20\n",
      "1114/2139 [===================>....................] - ETA: 21:48 - loss: 1.0646 - acc: 0.8776"
     ]
    }
   ],
   "source": [
    "history=retrain_model_by_scheduler(net, optimizer, scheduler, total_epochs, \n",
    "                                 train_loader, loss_fn, weight_fol, logdir, \n",
    "                                 initial_epoch=initial_epoch, pre_trained_model=pre_trained_model, \n",
    "                                 validation=True, val_loader=val_loader)\n"
   ]
  }
 ],
 "metadata": {
  "accelerator": "GPU",
  "colab": {
   "collapsed_sections": [
    "ymsIg4TJLyFi",
    "gs1z_0QIbviZ",
    "1j2md3MLaSZ9",
    "lwSeUipsacJ4",
    "XXicWatQawm3",
    "7tjurLnWbsU6",
    "C_0IhVrbcPW0",
    "AB884uX6c3M7",
    "2z_46GNKMzuE",
    "oJv7id_CVbhf",
    "lgfMNsmeN37D"
   ],
   "name": "2 Cassava.ipynb",
   "provenance": [],
   "toc_visible": true
  },
  "kernelspec": {
   "display_name": "Python 3",
   "language": "python",
   "name": "python3"
  },
  "language_info": {
   "codemirror_mode": {
    "name": "ipython",
    "version": 3
   },
   "file_extension": ".py",
   "mimetype": "text/x-python",
   "name": "python",
   "nbconvert_exporter": "python",
   "pygments_lexer": "ipython3",
   "version": "3.8.5"
  },
  "widgets": {
   "application/vnd.jupyter.widget-state+json": {
    "00142b061e8345fdafbd895c4d68e050": {
     "model_module": "@jupyter-widgets/controls",
     "model_name": "FloatProgressModel",
     "state": {
      "_dom_classes": [],
      "_model_module": "@jupyter-widgets/controls",
      "_model_module_version": "1.5.0",
      "_model_name": "FloatProgressModel",
      "_view_count": null,
      "_view_module": "@jupyter-widgets/controls",
      "_view_module_version": "1.5.0",
      "_view_name": "ProgressView",
      "bar_style": "success",
      "description": "100%",
      "description_tooltip": null,
      "layout": "IPY_MODEL_549f80e4eece404b926840e7c87393e1",
      "max": 100441675,
      "min": 0,
      "orientation": "horizontal",
      "style": "IPY_MODEL_adbe59feddd84ff7bb8cbae774b27d6a",
      "value": 100441675
     }
    },
    "407d7343224c4edf81174be235886e55": {
     "model_module": "@jupyter-widgets/base",
     "model_name": "LayoutModel",
     "state": {
      "_model_module": "@jupyter-widgets/base",
      "_model_module_version": "1.2.0",
      "_model_name": "LayoutModel",
      "_view_count": null,
      "_view_module": "@jupyter-widgets/base",
      "_view_module_version": "1.2.0",
      "_view_name": "LayoutView",
      "align_content": null,
      "align_items": null,
      "align_self": null,
      "border": null,
      "bottom": null,
      "display": null,
      "flex": null,
      "flex_flow": null,
      "grid_area": null,
      "grid_auto_columns": null,
      "grid_auto_flow": null,
      "grid_auto_rows": null,
      "grid_column": null,
      "grid_gap": null,
      "grid_row": null,
      "grid_template_areas": null,
      "grid_template_columns": null,
      "grid_template_rows": null,
      "height": null,
      "justify_content": null,
      "justify_items": null,
      "left": null,
      "margin": null,
      "max_height": null,
      "max_width": null,
      "min_height": null,
      "min_width": null,
      "object_fit": null,
      "object_position": null,
      "order": null,
      "overflow": null,
      "overflow_x": null,
      "overflow_y": null,
      "padding": null,
      "right": null,
      "top": null,
      "visibility": null,
      "width": null
     }
    },
    "549f80e4eece404b926840e7c87393e1": {
     "model_module": "@jupyter-widgets/base",
     "model_name": "LayoutModel",
     "state": {
      "_model_module": "@jupyter-widgets/base",
      "_model_module_version": "1.2.0",
      "_model_name": "LayoutModel",
      "_view_count": null,
      "_view_module": "@jupyter-widgets/base",
      "_view_module_version": "1.2.0",
      "_view_name": "LayoutView",
      "align_content": null,
      "align_items": null,
      "align_self": null,
      "border": null,
      "bottom": null,
      "display": null,
      "flex": null,
      "flex_flow": null,
      "grid_area": null,
      "grid_auto_columns": null,
      "grid_auto_flow": null,
      "grid_auto_rows": null,
      "grid_column": null,
      "grid_gap": null,
      "grid_row": null,
      "grid_template_areas": null,
      "grid_template_columns": null,
      "grid_template_rows": null,
      "height": null,
      "justify_content": null,
      "justify_items": null,
      "left": null,
      "margin": null,
      "max_height": null,
      "max_width": null,
      "min_height": null,
      "min_width": null,
      "object_fit": null,
      "object_position": null,
      "order": null,
      "overflow": null,
      "overflow_x": null,
      "overflow_y": null,
      "padding": null,
      "right": null,
      "top": null,
      "visibility": null,
      "width": null
     }
    },
    "7a2b70552d8946a799b3f227feb254b5": {
     "model_module": "@jupyter-widgets/controls",
     "model_name": "HBoxModel",
     "state": {
      "_dom_classes": [],
      "_model_module": "@jupyter-widgets/controls",
      "_model_module_version": "1.5.0",
      "_model_name": "HBoxModel",
      "_view_count": null,
      "_view_module": "@jupyter-widgets/controls",
      "_view_module_version": "1.5.0",
      "_view_name": "HBoxView",
      "box_style": "",
      "children": [
       "IPY_MODEL_00142b061e8345fdafbd895c4d68e050",
       "IPY_MODEL_88875ab0812440da994ba65d8e97ed6f"
      ],
      "layout": "IPY_MODEL_ace27ddb4fa542d2bb764c2313682968"
     }
    },
    "88875ab0812440da994ba65d8e97ed6f": {
     "model_module": "@jupyter-widgets/controls",
     "model_name": "HTMLModel",
     "state": {
      "_dom_classes": [],
      "_model_module": "@jupyter-widgets/controls",
      "_model_module_version": "1.5.0",
      "_model_name": "HTMLModel",
      "_view_count": null,
      "_view_module": "@jupyter-widgets/controls",
      "_view_module_version": "1.5.0",
      "_view_name": "HTMLView",
      "description": "",
      "description_tooltip": null,
      "layout": "IPY_MODEL_407d7343224c4edf81174be235886e55",
      "placeholder": "​",
      "style": "IPY_MODEL_b429b0d9319e4e5a8f62959b0bbda293",
      "value": " 95.8M/95.8M [00:00&lt;00:00, 117MB/s]"
     }
    },
    "ace27ddb4fa542d2bb764c2313682968": {
     "model_module": "@jupyter-widgets/base",
     "model_name": "LayoutModel",
     "state": {
      "_model_module": "@jupyter-widgets/base",
      "_model_module_version": "1.2.0",
      "_model_name": "LayoutModel",
      "_view_count": null,
      "_view_module": "@jupyter-widgets/base",
      "_view_module_version": "1.2.0",
      "_view_name": "LayoutView",
      "align_content": null,
      "align_items": null,
      "align_self": null,
      "border": null,
      "bottom": null,
      "display": null,
      "flex": null,
      "flex_flow": null,
      "grid_area": null,
      "grid_auto_columns": null,
      "grid_auto_flow": null,
      "grid_auto_rows": null,
      "grid_column": null,
      "grid_gap": null,
      "grid_row": null,
      "grid_template_areas": null,
      "grid_template_columns": null,
      "grid_template_rows": null,
      "height": null,
      "justify_content": null,
      "justify_items": null,
      "left": null,
      "margin": null,
      "max_height": null,
      "max_width": null,
      "min_height": null,
      "min_width": null,
      "object_fit": null,
      "object_position": null,
      "order": null,
      "overflow": null,
      "overflow_x": null,
      "overflow_y": null,
      "padding": null,
      "right": null,
      "top": null,
      "visibility": null,
      "width": null
     }
    },
    "adbe59feddd84ff7bb8cbae774b27d6a": {
     "model_module": "@jupyter-widgets/controls",
     "model_name": "ProgressStyleModel",
     "state": {
      "_model_module": "@jupyter-widgets/controls",
      "_model_module_version": "1.5.0",
      "_model_name": "ProgressStyleModel",
      "_view_count": null,
      "_view_module": "@jupyter-widgets/base",
      "_view_module_version": "1.2.0",
      "_view_name": "StyleView",
      "bar_color": null,
      "description_width": "initial"
     }
    },
    "b429b0d9319e4e5a8f62959b0bbda293": {
     "model_module": "@jupyter-widgets/controls",
     "model_name": "DescriptionStyleModel",
     "state": {
      "_model_module": "@jupyter-widgets/controls",
      "_model_module_version": "1.5.0",
      "_model_name": "DescriptionStyleModel",
      "_view_count": null,
      "_view_module": "@jupyter-widgets/base",
      "_view_module_version": "1.2.0",
      "_view_name": "StyleView",
      "description_width": ""
     }
    }
   },
   "state":{
   }
  }
 },
 "nbformat": 4,
 "nbformat_minor": 1
}
